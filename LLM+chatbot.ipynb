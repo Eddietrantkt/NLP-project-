{
  "nbformat": 4,
  "nbformat_minor": 0,
  "metadata": {
    "colab": {
      "provenance": []
    },
    "kernelspec": {
      "name": "python3",
      "display_name": "Python 3"
    },
    "language_info": {
      "name": "python"
    }
  },
  "cells": [
    {
      "cell_type": "markdown",
      "source": [
        "#1: LLM integration\n",
        "The task involves building an AI capable of language translation."
      ],
      "metadata": {
        "id": "Q3dyhsxXTQe2"
      }
    },
    {
      "cell_type": "code",
      "source": [
        "!pip install python-dotenv"
      ],
      "metadata": {
        "colab": {
          "base_uri": "https://localhost:8080/"
        },
        "id": "3x_FeSAmkqR_",
        "outputId": "74b623e6-fd84-4811-9f8c-0bc8a6fa6bd9"
      },
      "execution_count": null,
      "outputs": [
        {
          "output_type": "stream",
          "name": "stdout",
          "text": [
            "Requirement already satisfied: python-dotenv in /usr/local/lib/python3.10/dist-packages (1.0.1)\n"
          ]
        }
      ]
    },
    {
      "cell_type": "code",
      "source": [
        "import os\n",
        "import google.generativeai as genai\n",
        "from dotenv import load_dotenv\n",
        "import numpy as np\n",
        "\n",
        "# Tải biến môi trường từ tệp .env\n",
        "load_dotenv(\"/content/drive/MyDrive/Colab Notebooks/untitled.env\")\n",
        "\n",
        "# Lấy API Key từ biến môi trường\n",
        "API_KEY = os.getenv(\"API_KEY\")\n",
        "if not API_KEY:\n",
        "    raise ValueError(\"API_KEY không được tìm thấy. Vui lòng kiểm tra tệp .env hoặc biến môi trường.\")\n",
        "\n",
        "# Cấu hình thư viện với API Key\n",
        "genai.configure(api_key=API_KEY)"
      ],
      "metadata": {
        "id": "2IN6famkP9mU"
      },
      "execution_count": null,
      "outputs": []
    },
    {
      "cell_type": "code",
      "source": [
        "model = genai.GenerativeModel('gemini-pro')\n"
      ],
      "metadata": {
        "id": "JT8eeanN1VKE"
      },
      "execution_count": null,
      "outputs": []
    },
    {
      "cell_type": "markdown",
      "source": [
        "##1.1 Single Text Translation:"
      ],
      "metadata": {
        "id": "UW78DCba1ZBa"
      }
    },
    {
      "cell_type": "code",
      "source": [
        "def translate_single_text(json_input):\n",
        "    \"\"\"\n",
        "    Dịch một văn bản từ JSON đầu vào.\n",
        "    \"\"\"\n",
        "    text = json_input['text']\n",
        "    dest_language = json_input['dest_language']\n",
        "\n",
        "    # Prompt để dịch văn bản\n",
        "    translate_prompt = f\"Translate the following text to {dest_language}:\\n{text}\"\n",
        "    response = model.generate_content(translate_prompt)\n",
        "    translated_text = response.text.strip()\n",
        "    return translated_text\n",
        "\n",
        "# Ví dụ sử dụng\n",
        "if __name__ == \"__main__\":\n",
        "\n",
        "    # Dịch văn bản đơn lẻ input là tiếng anh\n",
        "    print(\"Translating into Vietnamese 1:\")\n",
        "    json_1 = {\n",
        "        'text': 'Hello!',\n",
        "        'dest_language': 'vi'\n",
        "    }\n",
        "    result_1 = translate_single_text(json_1)\n",
        "    print(f\"Translated single text: {result_1}\")\n",
        "\n",
        "    # Dịch văn bản đơn lẻ nếu là input là tiếng việt\n",
        "    print(\"Translating into Vietnamese 2:\")\n",
        "    json_2 = {\n",
        "        'text': 'Xin chào!',\n",
        "        'dest_language': 'vi'\n",
        "    }\n",
        "    result_2 = translate_single_text(json_2)\n",
        "    print(f\"Translated single text: {result_2}\")\n"
      ],
      "metadata": {
        "colab": {
          "base_uri": "https://localhost:8080/",
          "height": 86
        },
        "id": "0UoCTRR1_1xC",
        "outputId": "92f61cc9-ed31-4a6e-e65b-8ec2a553684f"
      },
      "execution_count": null,
      "outputs": [
        {
          "output_type": "stream",
          "name": "stdout",
          "text": [
            "Translating into Vietnamese 1:\n",
            "Translated single text: Xin chào!\n",
            "Translating into Vietnamese 2:\n",
            "Translated single text: Xin chào!\n"
          ]
        }
      ]
    },
    {
      "cell_type": "markdown",
      "source": [
        "##1.2 Multiple Texts Translation:"
      ],
      "metadata": {
        "id": "2m-z615L3Jtf"
      }
    },
    {
      "cell_type": "code",
      "source": [
        "def translate_multiple_texts(json_input):\n",
        "    \"\"\"\n",
        "    Dịch danh sách các văn bản từ JSON đầu vào.\n",
        "    \"\"\"\n",
        "    texts = json_input['text']\n",
        "    dest_language = json_input['dest_language']\n",
        "\n",
        "    translated_texts = []\n",
        "    for text in texts:\n",
        "        # Prompt để dịch từng văn bản\n",
        "        translate_prompt = f\"Translate the following text to {dest_language}:\\n{text}\"\n",
        "        response = model.generate_content(translate_prompt)\n",
        "        translated_text = response.text.strip()\n",
        "        translated_texts.append(translated_text)\n",
        "\n",
        "    return translated_texts\n",
        "if __name__ == \"__main__\":\n",
        "  # Dịch danh sách văn bản\n",
        "    json_3 = {\n",
        "        'text': [\"Hello\", \"I am John\", \"Tôi là sinh viên\"],\n",
        "        'dest_language': 'vi'\n",
        "    }\n",
        "    result_3 = translate_multiple_texts(json_3)\n",
        "    print(f\"Translated multiple texts: {result_3}\")"
      ],
      "metadata": {
        "colab": {
          "base_uri": "https://localhost:8080/",
          "height": 34
        },
        "id": "Ye1xrHIY1fys",
        "outputId": "d031e039-2bbf-4982-cb39-6a21aea9c7f5"
      },
      "execution_count": null,
      "outputs": [
        {
          "output_type": "stream",
          "name": "stdout",
          "text": [
            "Translated multiple texts: ['Xin chào', 'Tôi là John', 'Tôi là sinh viên']\n"
          ]
        }
      ]
    },
    {
      "cell_type": "markdown",
      "source": [
        "#2:Chatbot Development"
      ],
      "metadata": {
        "id": "2exF-AZRTOfQ"
      }
    },
    {
      "cell_type": "markdown",
      "source": [
        "##2.1 Data Access and Indexing"
      ],
      "metadata": {
        "id": "bjgLAFCW3d51"
      }
    },
    {
      "cell_type": "code",
      "source": [
        "import requests\n",
        "from bs4 import BeautifulSoup\n",
        "\n",
        "# URL cần lấy dữ liệu\n",
        "url = \"https://www.presight.io/privacy-policy.html\"\n",
        "\n",
        "# Gửi yêu cầu HTTP để lấy nội dung HTML của trang\n",
        "response = requests.get(url)\n",
        "response.encoding = 'utf-8'\n",
        "if response.status_code == 200:\n",
        "    print(\"Successfully fetched the webpage.\")\n",
        "else:\n",
        "    print(f\"Failed to fetch the webpage. Status code: {response.status_code}\")\n",
        "    exit()\n",
        "\n",
        "# Phân tích nội dung HTML bằng BeautifulSoup\n",
        "soup = BeautifulSoup(response.text, \"html.parser\")"
      ],
      "metadata": {
        "colab": {
          "base_uri": "https://localhost:8080/"
        },
        "id": "9hmgtxMUGBf1",
        "outputId": "5b0dcbaa-df67-4ed6-bf76-0373158da3c8"
      },
      "execution_count": null,
      "outputs": [
        {
          "output_type": "stream",
          "name": "stdout",
          "text": [
            "Successfully fetched the webpage.\n"
          ]
        }
      ]
    },
    {
      "cell_type": "code",
      "source": [
        "sections=[]"
      ],
      "metadata": {
        "id": "S_L6bd45j3uW"
      },
      "execution_count": null,
      "outputs": []
    },
    {
      "cell_type": "code",
      "source": [
        "headers=soup.find_all(['h1', 'h2', 'h3', 'h4', 'h5', 'h6'])"
      ],
      "metadata": {
        "id": "H1m4YJmxkEeZ"
      },
      "execution_count": null,
      "outputs": []
    },
    {
      "cell_type": "code",
      "source": [
        "title=headers[0].get_text(strip=True)\n",
        "body=headers[1].get_text(strip=True)+' '+headers[1].find_next('p').get_text(strip=True)"
      ],
      "metadata": {
        "id": "H0qeMYKSkeAP"
      },
      "execution_count": null,
      "outputs": []
    },
    {
      "cell_type": "code",
      "source": [
        "sections.append({\"title\": title, \"body\": body})"
      ],
      "metadata": {
        "id": "-PfM53x4kJZY"
      },
      "execution_count": null,
      "outputs": []
    },
    {
      "cell_type": "code",
      "source": [
        "for header in headers[2:]:\n",
        "    if header==headers[6]:\n",
        "        continue\n",
        "    else:\n",
        "        title = header.get_text(strip=True)\n",
        "        sibling = header.find_next_sibling()\n",
        "        body = []\n",
        "\n",
        "        while sibling:\n",
        "            if sibling.name in ['h1', 'h2', 'h3', 'h4', 'h5', 'h6']:\n",
        "                break\n",
        "\n",
        "            if sibling.name not in ['h1', 'h2', 'h3', 'h4', 'h5', 'h6', 'style']:\n",
        "                if sibling.find_all(['i', 'p', 'li']):\n",
        "                    content = []\n",
        "                    for sub_element in sibling.find_all(['i', 'p', 'li']):\n",
        "                        text_content = sub_element.get_text(strip=True)\n",
        "                        if text_content:\n",
        "                            content.append(text_content)\n",
        "                    body.append(\"\\n\".join(content))\n",
        "                else:\n",
        "                    body.append(sibling.get_text(strip=True))\n",
        "\n",
        "            sibling = sibling.find_next_sibling()\n",
        "\n",
        "        sections.append({\"title\": title, \"body\": ' '.join(body).strip()})\n"
      ],
      "metadata": {
        "id": "iW_8t4hdwcXP"
      },
      "execution_count": null,
      "outputs": []
    },
    {
      "cell_type": "code",
      "source": [
        "div = soup.find('div', class_='chakra-stack css-1rr8l2z')\n",
        "cities = [p.get_text() for p in div.find_all('p', class_='chakra-text css-1y9pbx2')]"
      ],
      "metadata": {
        "id": "gtcPyi4DD2mZ"
      },
      "execution_count": null,
      "outputs": []
    },
    {
      "cell_type": "code",
      "source": [
        "sections.append({\"title\": \"Location of Presight\", \"body\": ' '.join(cities).strip()})"
      ],
      "metadata": {
        "id": "9Ph5s0dwDsc6"
      },
      "execution_count": null,
      "outputs": []
    },
    {
      "cell_type": "code",
      "source": [
        "sections"
      ],
      "metadata": {
        "colab": {
          "base_uri": "https://localhost:8080/"
        },
        "id": "e_iMHH_1uV3E",
        "outputId": "a1fadef2-d6f3-45ea-ded7-1bd5a2e93d85"
      },
      "execution_count": null,
      "outputs": [
        {
          "output_type": "execute_result",
          "data": {
            "text/plain": [
              "[{'title': 'PRIVACY POLICY',\n",
              "  'body': 'Last updated 15 Sep 2023 At Presight, we are committed to protecting the privacy of our customers and visitors to our website. This Privacy Policy explains how we collect, use, and disclose information about our customers and visitors.'},\n",
              " {'title': 'Information Collection and Use',\n",
              "  'body': 'We collect several different types of information for various purposes to provide and improve our Service to you.'},\n",
              " {'title': 'Types of Data Collected',\n",
              "  'body': 'Personal Data\\nWhile using our Service, we may ask you to provide us with certain personally identifiable information that can be used to contact or identify you (\"Personal Data\"). Personally identifiable information may include, but is not limited to:\\nEmail address\\nFirst name and last name\\nPhone number\\nAddress, State, Province, ZIP/Postal code, City\\nCookies and Usage Data\\nUsage Data\\nWe may also collect information that your browser sends whenever you visit our Service or when you access the Service by or through a mobile device (\"Usage Data\"). This Usage Data may include information such as your computer\\'s Internet Protocol address (e.g. IP address), browser type, browser version, the pages of our Service that you visit, the time and date of your visit, the time spent on those pages, unique device identifiers, and other diagnostic data.'},\n",
              " {'title': 'Use of Data',\n",
              "  'body': 'Presight uses the collected data for various purposes: To provide and maintain our Service\\nTo notify you about changes to our Service\\nTo allow you to participate in interactive features of our Service when you choose to do so\\nTo provide customer support\\nTo gather analysis or valuable information so that we can improve our Service\\nTo monitor the usage of our Service\\nTo detect, prevent and address technical issues'},\n",
              " {'title': 'Consent',\n",
              "  'body': 'As personal information is collected, you will be asked to confirm that your information is correct prior to submitting it to Presight.'},\n",
              " {'title': 'Accessing Your Personal Information',\n",
              "  'body': 'You have the right to access all of your personal information that we hold. Through the application, you can correct, amend, or append your personal information by logging into the application and navigating to your settings and profile.'},\n",
              " {'title': 'Automated Edit Checks',\n",
              "  'body': 'Presight employs automated edit checks to ensure that data entry fields are completed properly when collecting personal information. These edit checks help maintain data integrity and accuracy. You are encouraged to provide complete and valid information to ensure the smooth processing of their personal data.'},\n",
              " {'title': 'Disclosure of Information',\n",
              "  'body': 'We may disclose your application data to third-party service providers who help us provide our services such as Datadog, AWS, Google Cloud and Google Workspace. We may also disclose your information in response to a legal request, such as a subpoena or court order, or to protect our rights or the rights of others.'},\n",
              " {'title': 'Sharing of Personal Data',\n",
              "  'body': 'Your personal data will not be subject to sharing, transfer, rental or exchange for the benefit of third parties, including AI models.'},\n",
              " {'title': 'Google User Data and Google Workspace APIs',\n",
              "  'body': 'In all cases when users authenticate the platform to Google Workspace, the following applies: We do not retain or use Google User Data to develop, improve, or train generalized/non-personalized AI and/or ML models.\\nWe do not use Google Workspace APIs to develop, improve, or train generalized/non-personalized AI and/or ML models.\\nWe do not transfer Google User Data to third-party AI tools for the purpose of developing, improving, or training generalized or non-personalized AI and/or ML models.'},\n",
              " {'title': 'Data Security',\n",
              "  'body': 'All data is encrypted both in transit and at rest, using industry-standard encryption methods.\\nWe regularly perform security audits and vulnerability assessments to ensure the safety of our platform and the data stored within it.\\nOur employees are trained on best practices for data security, and access to customer data is restricted on a need-to-know basis.'},\n",
              " {'title': 'Data Retention & Disposal',\n",
              "  'body': 'Customer data is retained for as long as the account is in active status. Data enters an “expired” state when the account is voluntarily closed. Expired account data will be retained for 60 days. After this period, the account and related data will be removed.'},\n",
              " {'title': \"Quality, Including Data Subjects' Responsibilities for Quality\",\n",
              "  'body': 'We are committed to maintaining the quality and accuracy of the personal information we collect and process.\\nWe rely on data subjects to provide accurate and up-to-date information.\\nData subjects have the responsibility to inform us of any changes or inaccuracies in their personal data.\\nIf you believe that any information we hold about you is inaccurate, incomplete, or outdated, please contact us promptly to rectify the information.'},\n",
              " {'title': 'Monitoring and Enforcement',\n",
              "  'body': 'We regularly monitor its data processing activities to ensure compliance with this privacy policy and applicable data protection laws.\\nIn the event of a data breach or any unauthorized access to your personal information, we will notify you and the appropriate authorities as required by law.\\nWe committed to cooperating with data protection authorities and complying with their advice and decisions regarding data protection and privacy matters.'},\n",
              " {'title': 'Cookies',\n",
              "  'body': 'We use cookies to enhance your experience on our website. You can control the use of cookies through your web browser settings.'},\n",
              " {'title': 'Third-Party Websites',\n",
              "  'body': 'Our website may contain links to third-party websites. We are not responsible for the privacy practices or content of those websites.'},\n",
              " {'title': 'Changes to Privacy Policy',\n",
              "  'body': 'We may update this Privacy Policy from time to time. The updated Privacy Policy will be posted on our website.'},\n",
              " {'title': 'Contact Us',\n",
              "  'body': 'If you have any questions about this Privacy Policy, please contact us through the customer portal or by email atpresight@presight.io.'},\n",
              " {'title': 'Purposeful Use Only',\n",
              "  'body': \"We commit to only use personal information for the purposes identified in the entity's privacy policy.\"},\n",
              " {'title': 'Location of Presight',\n",
              "  'body': 'Ho Chi Minh City, Vietnam Singapore Seattle, WA, USA'}]"
            ]
          },
          "metadata": {},
          "execution_count": 94
        }
      ]
    },
    {
      "cell_type": "markdown",
      "source": [
        "###Embedding data"
      ],
      "metadata": {
        "id": "Amy46hcP5VZa"
      }
    },
    {
      "cell_type": "code",
      "source": [
        "sections_embeddings = []\n",
        "model_embed = \"models/text-embedding-004\""
      ],
      "metadata": {
        "id": "C6xA1FpiPhu8"
      },
      "execution_count": null,
      "outputs": []
    },
    {
      "cell_type": "code",
      "source": [
        "from sklearn.metrics.pairwise import cosine_similarity"
      ],
      "metadata": {
        "id": "Se2u8nJB0xLq"
      },
      "execution_count": null,
      "outputs": []
    },
    {
      "cell_type": "code",
      "source": [
        "for section in sections:\n",
        "    content=section[\"body\"]+' '+section[\"title\"]\n",
        "    result = genai.embed_content(model=model_embed, content=content,task_type=\"retrieval_document\")\n",
        "    sections_embeddings.append(result['embedding'])\n",
        "\n",
        "# Chuyển sections_embeddings thành numpy array để tính toán\n",
        "sections_embeddings = np.array(sections_embeddings)"
      ],
      "metadata": {
        "id": "Ti3dYUCqzAiz"
      },
      "execution_count": null,
      "outputs": []
    },
    {
      "cell_type": "markdown",
      "source": [
        "###Find the paragraph closest to the user's query"
      ],
      "metadata": {
        "id": "ipEsv50a5a2d"
      }
    },
    {
      "cell_type": "code",
      "source": [
        "def get_best_match(user_query, sections, sections_embeddings, model):\n",
        "    query_embedding_result = genai.embed_content(model=model_embed, content=user_query)\n",
        "    query_embedding = query_embedding_result['embedding']\n",
        "    query_embedding = np.array(query_embedding).reshape(1, -1)\n",
        "    similarities = cosine_similarity(query_embedding, sections_embeddings)\n",
        "    best_index = np.argmax(similarities)\n",
        "    return sections[best_index], similarities[0][best_index]"
      ],
      "metadata": {
        "id": "R-g1GrDHk1sz"
      },
      "execution_count": null,
      "outputs": []
    },
    {
      "cell_type": "code",
      "source": [
        "user_query =\"Where is the company located?\"\n",
        "best_match = get_best_match(user_query,sections,sections_embeddings,model_embed)\n",
        "print(f\"Best Passage: {best_match}\")"
      ],
      "metadata": {
        "colab": {
          "base_uri": "https://localhost:8080/",
          "height": 54
        },
        "id": "F3sQia3sdMk1",
        "outputId": "d97b6377-03e0-4ced-b85d-a6d0ecea6eb0"
      },
      "execution_count": null,
      "outputs": [
        {
          "output_type": "stream",
          "name": "stdout",
          "text": [
            "Best Passage: ({'title': 'Location of Presight', 'body': 'Ho Chi Minh City, Vietnam Singapore Seattle, WA, USA'}, 0.5622150117056195)\n"
          ]
        }
      ]
    },
    {
      "cell_type": "code",
      "source": [
        "model=genai.GenerativeModel('gemini-pro')\n",
        "genai.configure(api_key=API_KEY)"
      ],
      "metadata": {
        "id": "tAaF__8T0_ir"
      },
      "execution_count": null,
      "outputs": []
    },
    {
      "cell_type": "markdown",
      "source": [
        "##2.2 Chatbot Development"
      ],
      "metadata": {
        "id": "F5H5R75b5rFK"
      }
    },
    {
      "cell_type": "code",
      "source": [
        "def generate_answer(question, context,model):\n",
        "    prompt = f\"You are a helpful and informative bot that answers questions using text from the reference passage included below. \\\n",
        "  Be sure to respond in a complete sentence, being comprehensive, including all relevant background information. \\\n",
        "  However, you are talking to a non-technical audience, so be sure to break down complicated concepts and \\\n",
        "  strike a friendly and converstional tone. \\\n",
        "  If the passage is irrelevant to the answer, you may ignore it.\\\n",
        "  Based on the following paragraph {context}, please provide a safe and factual answer to the following question: {question}\"\n",
        "    try:\n",
        "        response=model.generate_content(\n",
        "            prompt,\n",
        "            generation_config=genai.types.GenerationConfig(\n",
        "            max_output_tokens=100,\n",
        "            temperature=1,\n",
        "    ),)\n",
        "        print(response.text)\n",
        "\n",
        "    except Exception as e:\n",
        "        print(f\"Error generating answer: {e}\")\n",
        "        return \"Sorry, I couldn't generate an answer at this moment.\"\n"
      ],
      "metadata": {
        "id": "IZf_6HcszZSA"
      },
      "execution_count": null,
      "outputs": []
    },
    {
      "cell_type": "code",
      "source": [
        "def clean_input(text):\n",
        "    # Loại bỏ các từ nhạy cảm hoặc nguy hiểm (giả lập)\n",
        "    prohibited_words = [\"dangerous\", \"expired\", \"illegal\", \"violent\"]  # Ví dụ từ cấm\n",
        "    for word in prohibited_words:\n",
        "        text = text.replace(word, \"[filtered]\")\n",
        "    return text"
      ],
      "metadata": {
        "id": "-6D7NDDq4J97"
      },
      "execution_count": null,
      "outputs": []
    },
    {
      "cell_type": "code",
      "source": [
        "def chatbot(user_query):\n",
        "    user_query = clean_input(user_query)\n",
        "    best_match_paragraph,_ = get_best_match(user_query,sections, sections_embeddings,model_embed)\n",
        "    combined_text = f\"{best_match_paragraph['title']}: {best_match_paragraph['body']}\"\n",
        "    combined_text = clean_input(combined_text)\n",
        "    final_answer = generate_answer(user_query, combined_text,model)\n",
        "    return final_answer"
      ],
      "metadata": {
        "id": "wbj_9CkloMVl"
      },
      "execution_count": null,
      "outputs": []
    },
    {
      "cell_type": "code",
      "source": [
        "import time"
      ],
      "metadata": {
        "id": "bHavZS2MPBsy"
      },
      "execution_count": null,
      "outputs": []
    },
    {
      "cell_type": "code",
      "source": [
        "start = time.time()\n",
        "user_query = \"How to contact?\"\n",
        "answer = chatbot(user_query)\n",
        "end = time.time()\n",
        "print(f\"Running time: {end-start:.4f} seconds\")"
      ],
      "metadata": {
        "colab": {
          "base_uri": "https://localhost:8080/",
          "height": 72
        },
        "id": "STgOxvqR3lw6",
        "outputId": "f9ab5c94-9969-43a5-9d06-5946f3e85cbb"
      },
      "execution_count": null,
      "outputs": [
        {
          "output_type": "stream",
          "name": "stdout",
          "text": [
            "You can get in touch with Presight about their Privacy Policy through their customer portal or by sending an email to presight@presight.io.\n",
            "Running time: 3.2946 seconds\n"
          ]
        }
      ]
    },
    {
      "cell_type": "code",
      "source": [
        "start = time.time()\n",
        "user_query = \"Where is the location of Presight?\"\n",
        "answer = chatbot(user_query)\n",
        "end = time.time()\n",
        "print(f\"Running time: {end-start:.4f} seconds\")"
      ],
      "metadata": {
        "colab": {
          "base_uri": "https://localhost:8080/",
          "height": 52
        },
        "id": "BDwTOawqEoIz",
        "outputId": "9e8211a8-f757-4b3f-9726-16fb21b41e35"
      },
      "execution_count": null,
      "outputs": [
        {
          "output_type": "stream",
          "name": "stdout",
          "text": [
            "Presight is located in Ho Chi Minh City, Vietnam.\n",
            "Running time: 2.7273 seconds\n"
          ]
        }
      ]
    },
    {
      "cell_type": "code",
      "source": [
        "start = time.time()\n",
        "user_query = \"When was the privacy policy last updated?\"\n",
        "answer = chatbot(user_query)\n",
        "end = time.time()\n",
        "print(f\"Running time: {end-start:.4f} seconds\")"
      ],
      "metadata": {
        "colab": {
          "base_uri": "https://localhost:8080/",
          "height": 52
        },
        "id": "RNTCaT90HM6W",
        "outputId": "f5cea18e-4bb2-46a3-c298-5c231b2350e8"
      },
      "execution_count": null,
      "outputs": [
        {
          "output_type": "stream",
          "name": "stdout",
          "text": [
            "Unfortunately the reference passage you provided does not specify when the privacy policy was last updated.\n",
            "Running time: 2.5569 seconds\n"
          ]
        }
      ]
    },
    {
      "cell_type": "markdown",
      "source": [
        "#### Nhận xét:\n",
        "\n",
        " Việc chỉ chọn 1 đoạn văn gần với câu hỏi của người dùng nhất khiến xác suất mà kết quả hàm get_best_match sẽ chọn phải đoạn văn không chứa thông tin cần thiết cao nên ta lựa chọn phương án chọn 3 đoạn văn gần nhất để chatbot có thể có đầy đủ thông tin để trả lời chính xác hơn."
      ],
      "metadata": {
        "id": "UutvNqlMtNWZ"
      }
    },
    {
      "cell_type": "markdown",
      "source": [
        "###Find the three paragraphs closest to the user's query"
      ],
      "metadata": {
        "id": "QLfZG73256b3"
      }
    },
    {
      "cell_type": "code",
      "source": [
        "def get_top_matches(user_query, sections, sections_embeddings, model_embed, top_n=3):\n",
        "    # Tạo embedding cho câu truy vấn\n",
        "    query_embedding_result = genai.embed_content(model=model_embed, content=user_query)\n",
        "    query_embedding = query_embedding_result['embedding']\n",
        "    query_embedding = np.array(query_embedding).reshape(1, -1)\n",
        "\n",
        "    # Tính toán Cosine Similarity\n",
        "    similarities = cosine_similarity(query_embedding, sections_embeddings)[0]  # Lấy mảng 1 chiều\n",
        "\n",
        "    # Sắp xếp chỉ số theo thứ tự giảm dần của similarity\n",
        "    top_indices = np.argsort(similarities)[::-1][:top_n]  # Lấy top_n giá trị cao nhất\n",
        "\n",
        "    top_matches = [{\"section\": sections[i], \"similarity\": similarities[i]} for i in top_indices]\n",
        "    return top_matches\n"
      ],
      "metadata": {
        "id": "q6BDsWsetNH2"
      },
      "execution_count": null,
      "outputs": []
    },
    {
      "cell_type": "code",
      "source": [
        "user_query =\"When was the privacy policy last updated?\"\n",
        "best_match = get_top_matches(user_query,sections,sections_embeddings,model_embed,top_n=3)\n",
        "print(f\"Best Passage: {best_match}\")"
      ],
      "metadata": {
        "colab": {
          "base_uri": "https://localhost:8080/",
          "height": 54
        },
        "id": "2GhAop9yvBqE",
        "outputId": "eba9e4ff-d057-4b15-f7d4-bd98b2eac4a1"
      },
      "execution_count": null,
      "outputs": [
        {
          "output_type": "stream",
          "name": "stdout",
          "text": [
            "Best Passage: [{'section': {'title': 'Changes to Privacy Policy', 'body': 'We may update this Privacy Policy from time to time. The updated Privacy Policy will be posted on our website.'}, 'similarity': 0.602447592354112}, {'section': {'title': 'PRIVACY POLICY', 'body': 'Last updated 15 Sep 2023 At Presight, we are committed to protecting the privacy of our customers and visitors to our website. This Privacy Policy explains how we collect, use, and disclose information about our customers and visitors.'}, 'similarity': 0.5661056300205725}, {'section': {'title': 'Contact Us', 'body': 'If you have any questions about this Privacy Policy, please contact us through the customer portal or by email atpresight@presight.io.'}, 'similarity': 0.5479795390576668}]\n"
          ]
        }
      ]
    },
    {
      "cell_type": "code",
      "source": [
        "model=genai.GenerativeModel('gemini-pro')\n",
        "genai.configure(api_key=API_KEY)"
      ],
      "metadata": {
        "id": "KoQM5bmKvOjT"
      },
      "execution_count": null,
      "outputs": []
    },
    {
      "cell_type": "markdown",
      "source": [
        "###Chatbot"
      ],
      "metadata": {
        "id": "hzs0VEDO6Gv_"
      }
    },
    {
      "cell_type": "code",
      "source": [
        "def chatbot3(user_query):\n",
        "    user_query = clean_input(user_query)\n",
        "    top_matches_paragraph = get_top_matches(user_query,sections,sections_embeddings,model_embed,top_n=3)\n",
        "    combined_text = \"\\n\".join([f\"{paragraph['section']['title']}: {paragraph['section']['body']}\" for paragraph in top_matches_paragraph])\n",
        "    combined_text = clean_input(combined_text)\n",
        "    final_answer = generate_answer(user_query, combined_text,model)\n",
        "    return final_answer"
      ],
      "metadata": {
        "id": "w80Hdst8vU0H"
      },
      "execution_count": null,
      "outputs": []
    },
    {
      "cell_type": "code",
      "source": [
        "start = time.time()\n",
        "user_query = \"When was the privacy policy last updated?\"\n",
        "answer = chatbot3(user_query)\n",
        "end = time.time()\n",
        "print(f\"Running time: {end-start:.4f} seconds\")"
      ],
      "metadata": {
        "colab": {
          "base_uri": "https://localhost:8080/",
          "height": 52
        },
        "id": "C4lIFpXcvib8",
        "outputId": "81255ad0-15d9-4ac9-fe49-8bcb0e74e62d"
      },
      "execution_count": null,
      "outputs": [
        {
          "output_type": "stream",
          "name": "stdout",
          "text": [
            "According to the passage, the privacy policy was last updated on September 15th, 2023.\n",
            "Running time: 2.7694 seconds\n"
          ]
        }
      ]
    },
    {
      "cell_type": "code",
      "source": [
        "start = time.time()\n",
        "user_query = \"Where is the location of Presight?\"\n",
        "answer = chatbot3(user_query)\n",
        "end = time.time()\n",
        "print(f\"Running time: {end-start:.4f} seconds\")"
      ],
      "metadata": {
        "colab": {
          "base_uri": "https://localhost:8080/",
          "height": 52
        },
        "id": "Z7Y6bPwUzp3e",
        "outputId": "7ba42d29-a012-4be7-ee95-4b6b0fd079eb"
      },
      "execution_count": null,
      "outputs": [
        {
          "output_type": "stream",
          "name": "stdout",
          "text": [
            "Presight has offices in Ho Chi Minh City, Vietnam and Seattle, Washington in the United States.\n",
            "Running time: 2.7090 seconds\n"
          ]
        }
      ]
    },
    {
      "cell_type": "code",
      "source": [
        "start = time.time()\n",
        "user_query = \"What happens when a user authenticates with Google Workspace?\"\n",
        "answer = chatbot3(user_query)\n",
        "end = time.time()\n",
        "print(f\"Running time: {end-start:.4f} seconds\")"
      ],
      "metadata": {
        "colab": {
          "base_uri": "https://localhost:8080/",
          "height": 72
        },
        "id": "4XeZDsNq3NvF",
        "outputId": "1e0b3b19-5e15-45af-f173-6e29d78beeb4"
      },
      "execution_count": null,
      "outputs": [
        {
          "output_type": "stream",
          "name": "stdout",
          "text": [
            "When users authenticate with Google Workspace, Google does not retain or use their data to develop, improve, or train AI or ML models. Additionally, Google does not transfer user data to third parties for the purpose of developing AI or ML models.\n",
            "Running time: 3.2106 seconds\n"
          ]
        }
      ]
    },
    {
      "cell_type": "markdown",
      "source": [
        "#Báo cáo quy trình thực hiện:\n",
        "\n",
        "##1. Cào dữ liệu bằng BeautifulSoup\n",
        "\n",
        "##2. Chia dữ liệu thành các đoạn gồm tiêu đề và nội dung\n",
        "\n",
        "##3. Embedding dữ liệu và lưu trong mảng\n",
        "\n",
        "##4. Hàm get_best_match trả về đoạn văn bản phù hợp với câu hỏi nhất dựa vào giá trị đã embedding\n",
        "\n",
        "##5. Khởi tạo hàm chatbot dựa vào hàm get_best_match để tìm câu trả lời\n",
        "\n",
        "##6. Tương tự với hàm get_top_matches và hàm chatbot3 dựa vào 3 đoạn văn bản để tìm câu trả lời"
      ],
      "metadata": {
        "id": "8-FvFu2Pu6Yr"
      }
    }
  ]
}