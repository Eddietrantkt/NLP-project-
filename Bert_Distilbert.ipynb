{
  "cells": [
    {
      "cell_type": "markdown",
      "metadata": {
        "id": "eFCzIBshcHmg"
      },
      "source": [
        "# **Final Project**\n",
        "\n",
        "##**Problem stament :**     \n",
        "\n",
        "The widespread dissemination of fake news and propaganda presents serious societal risks, including the erosion of public trust, political polarization, manipulation of elections, and the spread of harmful misinformation during crises such as pandemics or conflicts. From an NLP perspective, detecting fake news is fraught with challenges. Linguistically, fake news often mimics the tone and structure of legitimate journalism, making it difficult to distinguish using surface-level features. The absence of reliable and up-to-date labeled datasets, especially across multiple languages and regions, hampers the effectiveness of supervised learning models. Additionally, the dynamic and adversarial nature of misinformation means that malicious actors constantly evolve their language and strategies to bypass detection systems. Cultural context, sarcasm, satire, and implicit bias further complicate automated analysis. Moreover, NLP models risk amplifying biases present in training data, leading to unfair classifications and potential censorship of legitimate content. These challenges underscore the need for cautious, context-aware approaches, as the failure to address them can inadvertently contribute to misinformation, rather than mitigate it.\n",
        "\n",
        "\n",
        "\n",
        "Use datasets in link : https://drive.google.com/drive/folders/1mrX3vPKhEzxG96OCPpCeh9F8m_QKCM4z?usp=sharing\n",
        "to complete requirement.\n",
        "\n",
        "## **About dataset:**\n",
        "\n",
        "* **True Articles**:\n",
        "\n",
        "  * **File**: `MisinfoSuperset_TRUE.csv`\n",
        "  * **Sources**:\n",
        "\n",
        "    * Reputable media outlets like **Reuters**, **The New York Times**, **The Washington Post**, etc.\n",
        "\n",
        "* **Fake/Misinformation/Propaganda Articles**:\n",
        "\n",
        "  * **File**: `MisinfoSuperset_FAKE.csv`\n",
        "  * **Sources**:\n",
        "\n",
        "    * **American right-wing extremist websites** (e.g., Redflag Newsdesk, Breitbart, Truth Broadcast Network)\n",
        "    * **Public dataset** from:\n",
        "\n",
        "      * Ahmed, H., Traore, I., & Saad, S. (2017): \"Detection of Online Fake News Using N-Gram Analysis and Machine Learning Techniques\" *(Springer LNCS 10618)*\n",
        "\n",
        "\n",
        "\n",
        "## **Requirement**\n",
        "\n",
        "A team consisting of three members must complete a project that involves applying the methods learned from the beginning of the course up to the present. The team is expected to follow and document the entire machine learning workflow, which includes the following steps:\n",
        "\n",
        "1. **Data Preprocessing**: Clean and prepare the dataset,etc.\n",
        "\n",
        "2. **Exploratory Data Analysis (EDA)**: Explore and visualize the data.\n",
        "\n",
        "3. **Model Building**: Select and build one or more machine learning models suitable for the problem at hand.\n",
        "\n",
        "4. **Hyperparameter set up**: Set and adjust the model's hyperparameters using appropriate methods to improve performance.\n",
        "\n",
        "5. **Model Training**: Train the model(s) on the training dataset.\n",
        "\n",
        "6. **Performance Evaluation**: Evaluate the trained model(s) using appropriate metrics (e.g., accuracy, precision, recall, F1-score, confusion matrix, etc.) and validate their performance on unseen data.\n",
        "\n",
        "7. **Conclusion**: Summarize the results, discuss the model's strengths and weaknesses, and suggest possible improvements or future work.\n",
        "\n",
        "\n",
        "\n"
      ]
    },
    {
      "cell_type": "code",
      "execution_count": 1,
      "metadata": {},
      "outputs": [],
      "source": [
        "import numpy as np\n",
        "import pandas as pd\n",
        "import matplotlib.pyplot as plt"
      ]
    },
    {
      "cell_type": "code",
      "execution_count": 2,
      "metadata": {},
      "outputs": [
        {
          "name": "stdout",
          "output_type": "stream",
          "text": [
            "                                                text  label  text_length\n",
            "0  link imo happening guys jumping conclusions co...      1         2717\n",
            "1  house passed budget today slim margin democrat...      1         3203\n",
            "2  youtube video posted january cloudgate studio ...      0         2549\n",
            "3  marseille france sang danced chanted even reas...      0         8149\n",
            "4  sunday nbc meet press discussing president don...      0         1235\n",
            "(68604, 3)\n"
          ]
        }
      ],
      "source": [
        "df = pd.read_csv(r\"C:\\Users\\Admin\\OneDrive - VNU-HCMUS\\cleaned\")\n",
        "print(df.head())\n",
        "print(df.shape)"
      ]
    },
    {
      "cell_type": "code",
      "execution_count": 3,
      "metadata": {},
      "outputs": [
        {
          "data": {
            "application/vnd.microsoft.datawrangler.viewer.v0+json": {
              "columns": [
                {
                  "name": "index",
                  "rawType": "object",
                  "type": "string"
                },
                {
                  "name": "0",
                  "rawType": "int64",
                  "type": "integer"
                }
              ],
              "ref": "e2da882a-e081-4f8f-9d59-eb0e874793cf",
              "rows": [
                [
                  "text",
                  "7"
                ],
                [
                  "label",
                  "0"
                ],
                [
                  "text_length",
                  "0"
                ]
              ],
              "shape": {
                "columns": 1,
                "rows": 3
              }
            },
            "text/plain": [
              "text           7\n",
              "label          0\n",
              "text_length    0\n",
              "dtype: int64"
            ]
          },
          "execution_count": 3,
          "metadata": {},
          "output_type": "execute_result"
        }
      ],
      "source": [
        "# Kiểm tra dữ liệu rỗng\n",
        "df.isnull().sum()"
      ]
    },
    {
      "cell_type": "code",
      "execution_count": 4,
      "metadata": {},
      "outputs": [],
      "source": [
        "# Loại bỏ các hàng có giá trị NaN trong cột 'text'\n",
        "df = df.dropna(subset=['text'])"
      ]
    },
    {
      "cell_type": "code",
      "execution_count": 5,
      "metadata": {},
      "outputs": [],
      "source": [
        "# Chia dữ liệu thành 3 phần: train, valid, test\n",
        "# 60% train, 20% valid, 20% test\n",
        "train_df = df[:int(0.6 * len(df))]\n",
        "valid_df = df[int(0.6 * len(df)):int(0.8 * len(df))]\n",
        "test_df = df[int(0.8 * len(df)):]"
      ]
    },
    {
      "cell_type": "markdown",
      "metadata": {},
      "source": [
        "# Tokenize data"
      ]
    },
    {
      "cell_type": "code",
      "execution_count": 6,
      "metadata": {},
      "outputs": [
        {
          "data": {
            "application/vnd.jupyter.widget-view+json": {
              "model_id": "45269c09090e4ad08bf8b62d6cb79014",
              "version_major": 2,
              "version_minor": 0
            },
            "text/plain": [
              "Map:   0%|          | 0/41158 [00:00<?, ? examples/s]"
            ]
          },
          "metadata": {},
          "output_type": "display_data"
        },
        {
          "data": {
            "application/vnd.jupyter.widget-view+json": {
              "model_id": "ef555c61f5c141db858ac1839fae70f1",
              "version_major": 2,
              "version_minor": 0
            },
            "text/plain": [
              "Map:   0%|          | 0/13719 [00:00<?, ? examples/s]"
            ]
          },
          "metadata": {},
          "output_type": "display_data"
        },
        {
          "data": {
            "application/vnd.jupyter.widget-view+json": {
              "model_id": "729d4b76529a49debb6f5b0a4db1ae54",
              "version_major": 2,
              "version_minor": 0
            },
            "text/plain": [
              "Map:   0%|          | 0/13720 [00:00<?, ? examples/s]"
            ]
          },
          "metadata": {},
          "output_type": "display_data"
        }
      ],
      "source": [
        "# Tokenize dữ liệu\n",
        "from transformers import BertTokenizerFast\n",
        "from transformers import XLNetTokenizerFast\n",
        "\n",
        "class Tokenizer:\n",
        "    def __init__(self, model_name, max_length=128):\n",
        "        if 'bert' in model_name:\n",
        "            self.tokenizer = BertTokenizerFast.from_pretrained(model_name)\n",
        "        elif 'xlnet' in model_name:\n",
        "            self.tokenizer = XLNetTokenizerFast.from_pretrained(model_name)\n",
        "        self.max_length = max_length\n",
        "\n",
        "    def tokenize_function(self, examples):\n",
        "        return self.tokenizer(\n",
        "            examples[\"text\"],\n",
        "            truncation=True,\n",
        "            padding=\"max_length\",\n",
        "            max_length=self.max_length\n",
        "        )\n",
        "\n",
        "from datasets import Dataset\n",
        "\n",
        "tokenizer = Tokenizer('bert-base-uncased')\n",
        "\n",
        "# Convert DataFrames to HuggingFace Datasets\n",
        "train_dataset = Dataset.from_pandas(train_df)\n",
        "valid_dataset = Dataset.from_pandas(valid_df)\n",
        "test_dataset = Dataset.from_pandas(test_df)\n",
        "\n",
        "# Tokenize datasets\n",
        "train_dataset = train_dataset.map(tokenizer.tokenize_function, batched=True)\n",
        "valid_dataset = valid_dataset.map(tokenizer.tokenize_function, batched=True)\n",
        "test_dataset = test_dataset.map(tokenizer.tokenize_function, batched=True)\n",
        "\n",
        "# Set format for PyTorch\n",
        "train_dataset.set_format(type=\"torch\", columns=[\"input_ids\", \"attention_mask\", \"label\"])\n",
        "valid_dataset.set_format(type=\"torch\", columns=[\"input_ids\", \"attention_mask\", \"label\"])\n",
        "test_dataset.set_format(type=\"torch\", columns=[\"input_ids\", \"attention_mask\", \"label\"])"
      ]
    },
    {
      "cell_type": "markdown",
      "metadata": {},
      "source": [
        "# Build and Load model"
      ]
    },
    {
      "cell_type": "code",
      "execution_count": 7,
      "metadata": {},
      "outputs": [],
      "source": [
        "from transformers import BertForSequenceClassification, DistilBertForSequenceClassification, RobertaForSequenceClassification\n",
        "\n",
        "class ModelBuilder:\n",
        "    def __init__(self, num_labels=2):\n",
        "        self.num_labels = num_labels\n",
        "        self.model = None\n",
        "\n",
        "    def build_model(self, model_name):\n",
        "        if model_name == 'bert-base-uncased':\n",
        "            self.model = BertForSequenceClassification.from_pretrained(model_name, num_labels=self.num_labels)\n",
        "        else:\n",
        "            self.model = DistilBertForSequenceClassification.from_pretrained(model_name, num_labels=self.num_labels)\n",
        "        return self.model"
      ]
    },
    {
      "cell_type": "code",
      "execution_count": 8,
      "metadata": {},
      "outputs": [
        {
          "name": "stderr",
          "output_type": "stream",
          "text": [
            "Some weights of BertForSequenceClassification were not initialized from the model checkpoint at bert-base-uncased and are newly initialized: ['classifier.bias', 'classifier.weight']\n",
            "You should probably TRAIN this model on a down-stream task to be able to use it for predictions and inference.\n",
            "Some weights of DistilBertForSequenceClassification were not initialized from the model checkpoint at distilbert-base-uncased and are newly initialized: ['classifier.bias', 'classifier.weight', 'pre_classifier.bias', 'pre_classifier.weight']\n",
            "You should probably TRAIN this model on a down-stream task to be able to use it for predictions and inference.\n"
          ]
        }
      ],
      "source": [
        "model_builder = ModelBuilder()\n",
        "bert_model = model_builder.build_model('bert-base-uncased')\n",
        "distilbert_model = model_builder.build_model('distilbert-base-uncased')"
      ]
    },
    {
      "cell_type": "code",
      "execution_count": 9,
      "metadata": {},
      "outputs": [
        {
          "data": {
            "text/plain": [
              "DistilBertForSequenceClassification(\n",
              "  (distilbert): DistilBertModel(\n",
              "    (embeddings): Embeddings(\n",
              "      (word_embeddings): Embedding(30522, 768, padding_idx=0)\n",
              "      (position_embeddings): Embedding(512, 768)\n",
              "      (LayerNorm): LayerNorm((768,), eps=1e-12, elementwise_affine=True)\n",
              "      (dropout): Dropout(p=0.1, inplace=False)\n",
              "    )\n",
              "    (transformer): Transformer(\n",
              "      (layer): ModuleList(\n",
              "        (0-5): 6 x TransformerBlock(\n",
              "          (attention): MultiHeadSelfAttention(\n",
              "            (dropout): Dropout(p=0.1, inplace=False)\n",
              "            (q_lin): Linear(in_features=768, out_features=768, bias=True)\n",
              "            (k_lin): Linear(in_features=768, out_features=768, bias=True)\n",
              "            (v_lin): Linear(in_features=768, out_features=768, bias=True)\n",
              "            (out_lin): Linear(in_features=768, out_features=768, bias=True)\n",
              "          )\n",
              "          (sa_layer_norm): LayerNorm((768,), eps=1e-12, elementwise_affine=True)\n",
              "          (ffn): FFN(\n",
              "            (dropout): Dropout(p=0.1, inplace=False)\n",
              "            (lin1): Linear(in_features=768, out_features=3072, bias=True)\n",
              "            (lin2): Linear(in_features=3072, out_features=768, bias=True)\n",
              "            (activation): GELUActivation()\n",
              "          )\n",
              "          (output_layer_norm): LayerNorm((768,), eps=1e-12, elementwise_affine=True)\n",
              "        )\n",
              "      )\n",
              "    )\n",
              "  )\n",
              "  (pre_classifier): Linear(in_features=768, out_features=768, bias=True)\n",
              "  (classifier): Linear(in_features=768, out_features=2, bias=True)\n",
              "  (dropout): Dropout(p=0.2, inplace=False)\n",
              ")"
            ]
          },
          "execution_count": 9,
          "metadata": {},
          "output_type": "execute_result"
        }
      ],
      "source": [
        "import torch\n",
        "device = torch.device(\"cuda\" if torch.cuda.is_available() else \"cpu\")\n",
        "bert_model.to(device)\n",
        "distilbert_model.to(device)"
      ]
    },
    {
      "cell_type": "markdown",
      "metadata": {},
      "source": [
        "# Train model"
      ]
    },
    {
      "cell_type": "code",
      "execution_count": 10,
      "metadata": {},
      "outputs": [
        {
          "name": "stderr",
          "output_type": "stream",
          "text": [
            "c:\\Users\\Admin\\AppData\\Local\\Programs\\Python\\Python311\\Lib\\site-packages\\transformers\\training_args.py:1474: FutureWarning: `evaluation_strategy` is deprecated and will be removed in version 4.46 of 🤗 Transformers. Use `eval_strategy` instead\n",
            "  warnings.warn(\n"
          ]
        }
      ],
      "source": [
        "from transformers import Trainer, TrainingArguments, DataCollatorWithPadding\n",
        "from sklearn.metrics import accuracy_score, precision_recall_fscore_support, confusion_matrix\n",
        "\n",
        "def compute_metrics(pred):\n",
        "    labels = pred.label_ids\n",
        "    preds = pred.predictions.argmax(-1)\n",
        "    cm = confusion_matrix(labels, preds)\n",
        "    precision, recall, f1, _ = precision_recall_fscore_support(labels, preds, average='weighted')\n",
        "\n",
        "    return {\n",
        "        'accuracy': accuracy_score(labels, preds),\n",
        "        'f1': float(f1),\n",
        "        'precision': float(precision),\n",
        "        'recall': float(recall),\n",
        "        'confusion_matrix': cm.tolist()\n",
        "    }\n",
        "\n",
        "data_collator = DataCollatorWithPadding(tokenizer=tokenizer.tokenizer)\n",
        "\n",
        "training_args = TrainingArguments(\n",
        "    output_dir=\"./results\",\n",
        "    per_device_train_batch_size=8,\n",
        "    per_device_eval_batch_size=8,\n",
        "    num_train_epochs=1,\n",
        "    weight_decay=0.01,\n",
        "    evaluation_strategy=\"epoch\",\n",
        "    save_strategy=\"epoch\",\n",
        "    gradient_accumulation_steps=2,\n",
        "    load_best_model_at_end=True,\n",
        "    dataloader_num_workers=8,\n",
        "    fp16=True\n",
        ")"
      ]
    },
    {
      "cell_type": "markdown",
      "metadata": {},
      "source": [
        "## Bert model"
      ]
    },
    {
      "cell_type": "code",
      "execution_count": 11,
      "metadata": {},
      "outputs": [
        {
          "data": {
            "application/vnd.jupyter.widget-view+json": {
              "model_id": "cdc15aad871d4889a28b6b0ec7a84aea",
              "version_major": 2,
              "version_minor": 0
            },
            "text/plain": [
              "  0%|          | 0/2572 [00:00<?, ?it/s]"
            ]
          },
          "metadata": {},
          "output_type": "display_data"
        },
        {
          "name": "stdout",
          "output_type": "stream",
          "text": [
            "{'loss': 0.3696, 'grad_norm': 7.150391578674316, 'learning_rate': 4.031881804043546e-05, 'epoch': 0.19}\n",
            "{'loss': 0.2484, 'grad_norm': 13.864790916442871, 'learning_rate': 3.0598755832037326e-05, 'epoch': 0.39}\n",
            "{'loss': 0.216, 'grad_norm': 15.154379844665527, 'learning_rate': 2.0878693623639193e-05, 'epoch': 0.58}\n",
            "{'loss': 0.2044, 'grad_norm': 8.95656681060791, 'learning_rate': 1.1178071539657855e-05, 'epoch': 0.78}\n",
            "{'loss': 0.1796, 'grad_norm': 9.804190635681152, 'learning_rate': 1.4580093312597201e-06, 'epoch': 0.97}\n"
          ]
        },
        {
          "data": {
            "application/vnd.jupyter.widget-view+json": {
              "model_id": "e154a82f8b624ebc80131a9f501770a7",
              "version_major": 2,
              "version_minor": 0
            },
            "text/plain": [
              "  0%|          | 0/1715 [00:00<?, ?it/s]"
            ]
          },
          "metadata": {},
          "output_type": "display_data"
        },
        {
          "name": "stdout",
          "output_type": "stream",
          "text": [
            "{'eval_loss': 0.1548750251531601, 'eval_accuracy': 0.9452584007580728, 'eval_f1': 0.945269902401505, 'eval_precision': 0.9453140999778809, 'eval_recall': 0.9452584007580728, 'eval_confusion_matrix': [[6830, 404], [347, 6138]], 'eval_runtime': 88.7281, 'eval_samples_per_second': 154.618, 'eval_steps_per_second': 19.329, 'epoch': 1.0}\n",
            "{'train_runtime': 783.1495, 'train_samples_per_second': 52.554, 'train_steps_per_second': 3.284, 'train_loss': 0.24195206962514257, 'epoch': 1.0}\n"
          ]
        },
        {
          "data": {
            "text/plain": [
              "TrainOutput(global_step=2572, training_loss=0.24195206962514257, metrics={'train_runtime': 783.1495, 'train_samples_per_second': 52.554, 'train_steps_per_second': 3.284, 'total_flos': 2706886537543680.0, 'train_loss': 0.24195206962514257, 'epoch': 0.9998056365403304})"
            ]
          },
          "execution_count": 11,
          "metadata": {},
          "output_type": "execute_result"
        }
      ],
      "source": [
        "# Training BERT model\n",
        "bert_trainer = Trainer(\n",
        "    model=bert_model,\n",
        "    args=training_args,\n",
        "    train_dataset=train_dataset,\n",
        "    eval_dataset=valid_dataset,\n",
        "    tokenizer=tokenizer.tokenizer,\n",
        "    data_collator=data_collator,\n",
        "    compute_metrics=compute_metrics\n",
        ")\n",
        "bert_trainer.train()"
      ]
    },
    {
      "cell_type": "code",
      "execution_count": 12,
      "metadata": {},
      "outputs": [
        {
          "data": {
            "application/vnd.jupyter.widget-view+json": {
              "model_id": "6523b60e20de4b37a5b872ada6c84095",
              "version_major": 2,
              "version_minor": 0
            },
            "text/plain": [
              "  0%|          | 0/1715 [00:00<?, ?it/s]"
            ]
          },
          "metadata": {},
          "output_type": "display_data"
        },
        {
          "name": "stdout",
          "output_type": "stream",
          "text": [
            "{'test_loss': 0.1624840348958969, 'test_accuracy': 0.9426384839650146, 'test_f1': 0.942699935414346, 'test_precision': 0.9429619844999592, 'test_recall': 0.9426384839650146, 'test_confusion_matrix': [[7174, 464], [323, 5759]], 'test_runtime': 79.4158, 'test_samples_per_second': 172.761, 'test_steps_per_second': 21.595}\n"
          ]
        }
      ],
      "source": [
        "# Evaluate the model\n",
        "bert_predict = bert_trainer.predict(test_dataset)\n",
        "print(bert_predict.metrics)"
      ]
    },
    {
      "cell_type": "markdown",
      "metadata": {},
      "source": [
        "## Distilbert model"
      ]
    },
    {
      "cell_type": "code",
      "execution_count": 13,
      "metadata": {},
      "outputs": [
        {
          "data": {
            "application/vnd.jupyter.widget-view+json": {
              "model_id": "b4e507ed5bbb4bc9b0dead8c28fb37f1",
              "version_major": 2,
              "version_minor": 0
            },
            "text/plain": [
              "  0%|          | 0/2572 [00:00<?, ?it/s]"
            ]
          },
          "metadata": {},
          "output_type": "display_data"
        },
        {
          "name": "stdout",
          "output_type": "stream",
          "text": [
            "{'loss': 0.3558, 'grad_norm': 2.2682247161865234, 'learning_rate': 4.0299377916018664e-05, 'epoch': 0.19}\n",
            "{'loss': 0.238, 'grad_norm': 2.72143816947937, 'learning_rate': 3.0598755832037326e-05, 'epoch': 0.39}\n",
            "{'loss': 0.2172, 'grad_norm': 6.849100112915039, 'learning_rate': 2.0878693623639193e-05, 'epoch': 0.58}\n",
            "{'loss': 0.191, 'grad_norm': 2.868938684463501, 'learning_rate': 1.1158631415241058e-05, 'epoch': 0.78}\n",
            "{'loss': 0.1736, 'grad_norm': 2.535066843032837, 'learning_rate': 1.438569206842924e-06, 'epoch': 0.97}\n"
          ]
        },
        {
          "data": {
            "application/vnd.jupyter.widget-view+json": {
              "model_id": "0b779342a2ad42489c86921846ef8d41",
              "version_major": 2,
              "version_minor": 0
            },
            "text/plain": [
              "  0%|          | 0/1715 [00:00<?, ?it/s]"
            ]
          },
          "metadata": {},
          "output_type": "display_data"
        },
        {
          "name": "stdout",
          "output_type": "stream",
          "text": [
            "{'eval_loss': 0.1640801578760147, 'eval_accuracy': 0.9394270719440192, 'eval_f1': 0.9394599655808152, 'eval_precision': 0.9398129148566099, 'eval_recall': 0.9394270719440192, 'eval_confusion_matrix': [[6729, 505], [326, 6159]], 'eval_runtime': 59.4362, 'eval_samples_per_second': 230.819, 'eval_steps_per_second': 28.854, 'epoch': 1.0}\n",
            "{'train_runtime': 471.5333, 'train_samples_per_second': 87.285, 'train_steps_per_second': 5.455, 'train_loss': 0.23344826957856885, 'epoch': 1.0}\n"
          ]
        },
        {
          "data": {
            "text/plain": [
              "TrainOutput(global_step=2572, training_loss=0.23344826957856885, metrics={'train_runtime': 471.5333, 'train_samples_per_second': 87.285, 'train_steps_per_second': 5.455, 'total_flos': 1362824597372928.0, 'train_loss': 0.23344826957856885, 'epoch': 0.9998056365403304})"
            ]
          },
          "execution_count": 13,
          "metadata": {},
          "output_type": "execute_result"
        }
      ],
      "source": [
        "# Training Distilbert model\n",
        "distilbert_trainer = Trainer(\n",
        "    model=distilbert_model,\n",
        "    args=training_args,\n",
        "    train_dataset=train_dataset,\n",
        "    eval_dataset=valid_dataset,\n",
        "    tokenizer=tokenizer.tokenizer,\n",
        "    data_collator=data_collator,\n",
        "    compute_metrics=compute_metrics\n",
        ")\n",
        "distilbert_trainer.train()"
      ]
    },
    {
      "cell_type": "code",
      "execution_count": 14,
      "metadata": {},
      "outputs": [
        {
          "data": {
            "application/vnd.jupyter.widget-view+json": {
              "model_id": "43ad2ae4a3ab48e6b57083548938370f",
              "version_major": 2,
              "version_minor": 0
            },
            "text/plain": [
              "  0%|          | 0/1715 [00:00<?, ?it/s]"
            ]
          },
          "metadata": {},
          "output_type": "display_data"
        },
        {
          "name": "stdout",
          "output_type": "stream",
          "text": [
            "{'test_loss': 0.16996903717517853, 'test_accuracy': 0.9381195335276968, 'test_f1': 0.9382232555685888, 'test_precision': 0.9388897067300341, 'test_recall': 0.9381195335276968, 'test_confusion_matrix': [[7095, 543], [306, 5776]], 'test_runtime': 53.5045, 'test_samples_per_second': 256.427, 'test_steps_per_second': 32.053}\n"
          ]
        }
      ],
      "source": [
        "# Evaluate the model\n",
        "distilbert_predict = distilbert_trainer.predict(test_dataset)\n",
        "# Print evaluation results\n",
        "print(distilbert_predict.metrics)"
      ]
    }
  ],
  "metadata": {
    "colab": {
      "provenance": []
    },
    "kernelspec": {
      "display_name": "Python 3",
      "name": "python3"
    },
    "language_info": {
      "codemirror_mode": {
        "name": "ipython",
        "version": 3
      },
      "file_extension": ".py",
      "mimetype": "text/x-python",
      "name": "python",
      "nbconvert_exporter": "python",
      "pygments_lexer": "ipython3",
      "version": "3.11.9"
    }
  },
  "nbformat": 4,
  "nbformat_minor": 0
}
