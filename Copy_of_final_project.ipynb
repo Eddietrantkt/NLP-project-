{
  "nbformat": 4,
  "nbformat_minor": 0,
  "metadata": {
    "colab": {
      "provenance": []
    },
    "kernelspec": {
      "name": "python3",
      "display_name": "Python 3"
    },
    "language_info": {
      "name": "python"
    }
  },

  "cells": [
    {
      "cell_type": "markdown",
      "metadata": {
        "id": "eFCzIBshcHmg"
      },
      "source": [
        "# **Final Project**\n",
        "\n",
        "##**Problem stament :**     \n",
        "\n",
        "The widespread dissemination of fake news and propaganda presents serious societal risks, including the erosion of public trust, political polarization, manipulation of elections, and the spread of harmful misinformation during crises such as pandemics or conflicts. From an NLP perspective, detecting fake news is fraught with challenges. Linguistically, fake news often mimics the tone and structure of legitimate journalism, making it difficult to distinguish using surface-level features. The absence of reliable and up-to-date labeled datasets, especially across multiple languages and regions, hampers the effectiveness of supervised learning models. Additionally, the dynamic and adversarial nature of misinformation means that malicious actors constantly evolve their language and strategies to bypass detection systems. Cultural context, sarcasm, satire, and implicit bias further complicate automated analysis. Moreover, NLP models risk amplifying biases present in training data, leading to unfair classifications and potential censorship of legitimate content. These challenges underscore the need for cautious, context-aware approaches, as the failure to address them can inadvertently contribute to misinformation, rather than mitigate it.\n",
        "\n",
        "\n",
        "\n",
        "Use datasets in link : https://drive.google.com/drive/folders/1mrX3vPKhEzxG96OCPpCeh9F8m_QKCM4z?usp=sharing\n",
        "to complete requirement.\n",
        "\n",
        "## **About dataset:**\n",
        "\n",
        "* **True Articles**:\n",
        "\n",
        "  * **File**: `MisinfoSuperset_TRUE.csv`\n",
        "  * **Sources**:\n",
        "\n",
        "    * Reputable media outlets like **Reuters**, **The New York Times**, **The Washington Post**, etc.\n",
        "\n",
        "* **Fake/Misinformation/Propaganda Articles**:\n",
        "\n",
        "  * **File**: `MisinfoSuperset_FAKE.csv`\n",
        "  * **Sources**:\n",
        "\n",
        "    * **American right-wing extremist websites** (e.g., Redflag Newsdesk, Breitbart, Truth Broadcast Network)\n",
        "    * **Public dataset** from:\n",
        "\n",
        "      * Ahmed, H., Traore, I., & Saad, S. (2017): \"Detection of Online Fake News Using N-Gram Analysis and Machine Learning Techniques\" *(Springer LNCS 10618)*\n",
        "\n",
        "\n",
        "\n",
        "## **Requirement**\n",
        "\n",
        "A team consisting of three members must complete a project that involves applying the methods learned from the beginning of the course up to the present. The team is expected to follow and document the entire machine learning workflow, which includes the following steps:\n",
        "\n",
        "1. **Data Preprocessing**: Clean and prepare the dataset,etc.\n",
        "\n",
        "2. **Exploratory Data Analysis (EDA)**: Explore and visualize the data.\n",
        "\n",
        "3. **Model Building**: Select and build one or more machine learning models suitable for the problem at hand.\n",
        "\n",
        "4. **Hyperparameter set up**: Set and adjust the model's hyperparameters using appropriate methods to improve performance.\n",
        "\n",
        "5. **Model Training**: Train the model(s) on the training dataset.\n",
        "\n",
        "6. **Performance Evaluation**: Evaluate the trained model(s) using appropriate metrics (e.g., accuracy, precision, recall, F1-score, confusion matrix, etc.) and validate their performance on unseen data.\n",
        "\n",
        "7. **Conclusion**: Summarize the results, discuss the model's strengths and weaknesses, and suggest possible improvements or future work.\n",
        "\n",
        "\n",
        "\n"
      ]
    },
    {
      "cell_type": "code",

      "source": [
        "from google.colab import drive\n",
        "drive.mount('/content/drive')"
      ],
      "metadata": {
        "colab": {
          "base_uri": "https://localhost:8080/"
        },
        "id": "jGC58A52ihNL",
        "outputId": "a33edf41-e855-42d2-da3c-1e4e58dc99a4"
      },
      "execution_count": 2,
      "outputs": [
        {
          "output_type": "stream",
          "name": "stdout",
          "text": [
            "Drive already mounted at /content/drive; to attempt to forcibly remount, call drive.mount(\"/content/drive\", force_remount=True).\n"
          ]
        }
      ]
    },
    {
      "cell_type": "code",
      "source": [
        "import pandas as pd\n",
        "import numpy as np\n",
        "import re\n",
        "import string\n",
        "import nltk\n",
        "import seaborn as sns\n",
        "import matplotlib.pyplot as plt\n",
        "from sklearn.model_selection import train_test_split\n",
        "from sklearn.feature_extraction.text import TfidfVectorizer\n",
        "from sklearn.linear_model import LogisticRegression\n",
        "from sklearn.metrics import classification_report, confusion_matrix\n",
        "from xgboost import XGBClassifier\n",
        "nltk.download('stopwords')\n",
        "from nltk.corpus import stopwords"
      ],
      "metadata": {
        "colab": {
          "base_uri": "https://localhost:8080/"
        },
        "id": "8618n216OdmJ",
        "outputId": "d94a56a8-ea5e-4919-df8d-83346c3bf4c8"
      },
      "execution_count": 3,
      "outputs": [
        {
          "output_type": "stream",
          "name": "stderr",
          "text": [
            "[nltk_data] Downloading package stopwords to /root/nltk_data...\n",
            "[nltk_data]   Package stopwords is already up-to-date!\n"
          ]
        }

      "execution_count": 1,
      "metadata": {},
      "outputs": [],
      "source": [
        "import numpy as np\n",
        "import pandas as pd\n",
        "import matplotlib.pyplot as plt"

      ]
    },
    {
      "cell_type": "code",
      "execution_count": 2,
      "metadata": {},
      "outputs": [
        {
          "name": "stdout",
          "output_type": "stream",
          "text": [
            "                                                text  label  text_length\n",
            "0  link imo happening guys jumping conclusions co...      1         2717\n",
            "1  house passed budget today slim margin democrat...      1         3203\n",
            "2  youtube video posted january cloudgate studio ...      0         2549\n",
            "3  marseille france sang danced chanted even reas...      0         8149\n",
            "4  sunday nbc meet press discussing president don...      0         1235\n",
            "(68604, 3)\n"
          ]
        }
      ],
      "source": [
        "df = pd.read_csv(r\"C:\\Users\\Admin\\OneDrive - VNU-HCMUS\\cleaned\")\n",
        "print(df.head())\n",
        "print(df.shape)"
      ]
    },
    {
      "cell_type": "code",
      "execution_count": null,
      "metadata": {},
      "outputs": [
        {
          "data": {
            "application/vnd.microsoft.datawrangler.viewer.v0+json": {
              "columns": [
                {
                  "name": "index",
                  "rawType": "object",
                  "type": "string"
                },
                {
                  "name": "0",
                  "rawType": "int64",
                  "type": "integer"
                }
              ],
              "ref": "b5efd8c4-b607-466c-8990-9afe6018e5c0",
              "rows": [
                [
                  "text",
                  "7"
                ],
                [
                  "label",
                  "0"
                ],
                [
                  "text_length",
                  "0"
                ]
              ],
              "shape": {
                "columns": 1,
                "rows": 3
              }
            },
            "text/plain": [
              "text           7\n",
              "label          0\n",
              "text_length    0\n",
              "dtype: int64"
            ]
          },
          "execution_count": 4,
          "metadata": {},
          "output_type": "execute_result"
        }
      ],
      "source": [
        "# Kiểm tra dữ liệu rỗng\n",
        "df.isnull().sum()"
      ]
    },
    {
      "cell_type": "code",
      "execution_count": null,
      "metadata": {},
      "outputs": [],
      "source": [
        "# Loại bỏ các hàng có giá trị NaN trong cột 'text'\n",
        "df = df.dropna(subset=['text'])"
      ]
    },
    {
      "cell_type": "code",
      "execution_count": null,
      "metadata": {},
      "outputs": [],
      "source": [
        "# Chia dữ liệu thành 3 phần: train, valid, test\n",
        "# 70% train, 10% valid, 20% test\n",
        "train_df = df[:int(0.7 * len(df))]\n",
        "valid_df = df[int(0.7 * len(df)):int(0.8 * len(df))]\n",
        "test_df = df[int(0.8 * len(df)):]"
      ]
    },
    {
      "cell_type": "markdown",
      "metadata": {},
      "source": [
        "# Tokenize data"
      ]
    },
    {
      "cell_type": "code",
      "execution_count": 5,
      "metadata": {},
      "outputs": [
        {
          "data": {
            "application/vnd.jupyter.widget-view+json": {
              "model_id": "cc329d173c5a4d7faf8e951e17fde9e0",
              "version_major": 2,
              "version_minor": 0
            },
            "text/plain": [
              "Map:   0%|          | 0/48017 [00:00<?, ? examples/s]"
            ]
          },
          "metadata": {},
          "output_type": "display_data"
        },
        {
          "data": {
            "application/vnd.jupyter.widget-view+json": {
              "model_id": "9c3282c2eaa344339b47854a6e8bf3d0",
              "version_major": 2,
              "version_minor": 0
            },
            "text/plain": [
              "Map:   0%|          | 0/6860 [00:00<?, ? examples/s]"
            ]
          },
          "metadata": {},
          "output_type": "display_data"
        },
        {
          "data": {
            "application/vnd.jupyter.widget-view+json": {
              "model_id": "1b86908bafd841db8824618227090e64",
              "version_major": 2,
              "version_minor": 0
            },
            "text/plain": [
              "Map:   0%|          | 0/13720 [00:00<?, ? examples/s]"
            ]
          },
          "metadata": {},
          "output_type": "display_data"
        }
      ],
      "source": [
        "# Tokenize dữ liệu\n",
        "from transformers import BertTokenizerFast\n",
        "from transformers import XLNetTokenizerFast\n",
        "\n",
        "class Tokenizer:\n",
        "    def __init__(self, model_name, max_length=256):\n",
        "        if 'bert' in model_name:\n",
        "            self.tokenizer = BertTokenizerFast.from_pretrained(model_name)\n",
        "        elif 'xlnet' in model_name:\n",
        "            self.tokenizer = XLNetTokenizerFast.from_pretrained(model_name)\n",
        "        self.max_length = max_length\n",
        "\n",
        "    def tokenize_function(self, examples):\n",
        "        return self.tokenizer(\n",
        "            examples[\"text\"],\n",
        "            truncation=True,\n",
        "            padding=\"max_length\",\n",
        "            max_length=self.max_length\n",
        "        )\n",
        "\n",
        "from datasets import Dataset\n",
        "\n",
        "tokenizer = Tokenizer('bert-base-uncased')\n",
        "\n",
        "# Convert DataFrames to HuggingFace Datasets\n",
        "train_dataset = Dataset.from_pandas(train_df)\n",
        "valid_dataset = Dataset.from_pandas(valid_df)\n",
        "test_dataset = Dataset.from_pandas(test_df)\n",
        "\n",
        "# Tokenize datasets\n",
        "train_dataset = train_dataset.map(tokenizer.tokenize_function, batched=True)\n",
        "valid_dataset = valid_dataset.map(tokenizer.tokenize_function, batched=True)\n",
        "test_dataset = test_dataset.map(tokenizer.tokenize_function, batched=True)\n",
        "\n",
        "# Set format for PyTorch\n",
        "train_dataset.set_format(type=\"torch\", columns=[\"input_ids\", \"attention_mask\", \"label\"])\n",
        "valid_dataset.set_format(type=\"torch\", columns=[\"input_ids\", \"attention_mask\", \"label\"])\n",
        "test_dataset.set_format(type=\"torch\", columns=[\"input_ids\", \"attention_mask\", \"label\"])"
      ]
    },
    {
      "cell_type": "markdown",
      "metadata": {},
      "source": [
        "# Build and Load model"
      ]
    },
    {
      "cell_type": "code",
      "execution_count": 6,
      "metadata": {},
      "outputs": [],
      "source": [
        "from transformers import BertForSequenceClassification, XLNetForSequenceClassification\n",
        "\n",
        "class ModelBuilder:\n",
        "    def __init__(self, num_labels=2):\n",
        "        self.num_labels = num_labels\n",
        "        self.model = None\n",
        "\n",
        "    def build_model(self, model_name):\n",
        "        if 'bert' in model_name:\n",
        "            self.model = BertForSequenceClassification.from_pretrained(model_name, num_labels=self.num_labels)\n",
        "        elif 'xlnet' in model_name:\n",
        "            self.model = XLNetForSequenceClassification.from_pretrained(model_name, num_labels=self.num_labels)\n",
        "        return self.model"
      ]
    },
    {
      "cell_type": "code",
      "execution_count": 7,
      "metadata": {},
      "outputs": [
        {
          "name": "stderr",
          "output_type": "stream",
          "text": [
            "Some weights of BertForSequenceClassification were not initialized from the model checkpoint at bert-base-uncased and are newly initialized: ['classifier.bias', 'classifier.weight']\n",
            "You should probably TRAIN this model on a down-stream task to be able to use it for predictions and inference.\n",
            "Some weights of XLNetForSequenceClassification were not initialized from the model checkpoint at xlnet-base-cased and are newly initialized: ['logits_proj.bias', 'logits_proj.weight', 'sequence_summary.summary.bias', 'sequence_summary.summary.weight']\n",
            "You should probably TRAIN this model on a down-stream task to be able to use it for predictions and inference.\n"
          ]
        }
      ],

      "metadata": {
        "id": "h9iFFJUs1n8O"
      },
      "execution_count": 4,
      "outputs": []

      "source": [
        "model_builder = ModelBuilder()\n",
        "bert_model = model_builder.build_model('bert-base-uncased')\n",
        "xlnet_model = model_builder.build_model('xlnet-base-cased')"
      ]

    },
    {
      "cell_type": "markdown",
      "metadata": {},
      "source": [

        "df.isnull().sum()"
      ],
      "metadata": {
        "colab": {
          "base_uri": "https://localhost:8080/",
          "height": 178
        },
        "id": "ZnP4plqN16Y3",
        "outputId": "8782e105-f167-4d7f-fa29-48be7946d209"
      },
      "execution_count": 5,
      "outputs": [
        {
          "output_type": "execute_result",
          "data": {
            "text/plain": [
              "text           7\n",
              "label          0\n",
              "text_length    0\n",
              "dtype: int64"
            ],
            "text/html": [
              "<div>\n",
              "<style scoped>\n",
              "    .dataframe tbody tr th:only-of-type {\n",
              "        vertical-align: middle;\n",
              "    }\n",
              "\n",
              "    .dataframe tbody tr th {\n",
              "        vertical-align: top;\n",
              "    }\n",
              "\n",
              "    .dataframe thead th {\n",
              "        text-align: right;\n",
              "    }\n",
              "</style>\n",
              "<table border=\"1\" class=\"dataframe\">\n",
              "  <thead>\n",
              "    <tr style=\"text-align: right;\">\n",
              "      <th></th>\n",
              "      <th>0</th>\n",
              "    </tr>\n",
              "  </thead>\n",
              "  <tbody>\n",
              "    <tr>\n",
              "      <th>text</th>\n",
              "      <td>7</td>\n",
              "    </tr>\n",
              "    <tr>\n",
              "      <th>label</th>\n",
              "      <td>0</td>\n",
              "    </tr>\n",
              "    <tr>\n",
              "      <th>text_length</th>\n",
              "      <td>0</td>\n",
              "    </tr>\n",
              "  </tbody>\n",
              "</table>\n",
              "</div><br><label><b>dtype:</b> int64</label>"
            ]
          },
          "metadata": {},
          "execution_count": 5
        }

        "# Train model"

      ]
    },
    {
      "cell_type": "code",

      "source": [
        "df.head()"
      ],
      "metadata": {
        "colab": {
          "base_uri": "https://localhost:8080/",
          "height": 206
        },
        "id": "2hZ-rV_02Dlh",
        "outputId": "33d9e3eb-5444-432b-fcf6-e22aaa2d90b9"
      },
      "execution_count": 6,

      "execution_count": 8,
      "metadata": {},

      "outputs": [
        {
          "data": {
            "text/plain": [

              "                                                text  label  text_length\n",
              "0  link imo happening guys jumping conclusions co...      1         2717\n",
              "1  house passed budget today slim margin democrat...      1         3203\n",
              "2  youtube video posted january cloudgate studio ...      0         2549\n",
              "3  marseille france sang danced chanted even reas...      0         8149\n",
              "4  sunday nbc meet press discussing president don...      0         1235"
            ],
            "text/html": [
              "\n",
              "  <div id=\"df-67006780-b14c-4f61-98f2-38f70e6d44ec\" class=\"colab-df-container\">\n",
              "    <div>\n",
              "<style scoped>\n",
              "    .dataframe tbody tr th:only-of-type {\n",
              "        vertical-align: middle;\n",
              "    }\n",
              "\n",
              "    .dataframe tbody tr th {\n",
              "        vertical-align: top;\n",
              "    }\n",
              "\n",
              "    .dataframe thead th {\n",
              "        text-align: right;\n",
              "    }\n",
              "</style>\n",
              "<table border=\"1\" class=\"dataframe\">\n",
              "  <thead>\n",
              "    <tr style=\"text-align: right;\">\n",
              "      <th></th>\n",
              "      <th>text</th>\n",
              "      <th>label</th>\n",
              "      <th>text_length</th>\n",
              "    </tr>\n",
              "  </thead>\n",
              "  <tbody>\n",
              "    <tr>\n",
              "      <th>0</th>\n",
              "      <td>link imo happening guys jumping conclusions co...</td>\n",
              "      <td>1</td>\n",
              "      <td>2717</td>\n",
              "    </tr>\n",
              "    <tr>\n",
              "      <th>1</th>\n",
              "      <td>house passed budget today slim margin democrat...</td>\n",
              "      <td>1</td>\n",
              "      <td>3203</td>\n",
              "    </tr>\n",
              "    <tr>\n",
              "      <th>2</th>\n",
              "      <td>youtube video posted january cloudgate studio ...</td>\n",
              "      <td>0</td>\n",
              "      <td>2549</td>\n",
              "    </tr>\n",
              "    <tr>\n",
              "      <th>3</th>\n",
              "      <td>marseille france sang danced chanted even reas...</td>\n",
              "      <td>0</td>\n",
              "      <td>8149</td>\n",
              "    </tr>\n",
              "    <tr>\n",
              "      <th>4</th>\n",
              "      <td>sunday nbc meet press discussing president don...</td>\n",
              "      <td>0</td>\n",
              "      <td>1235</td>\n",
              "    </tr>\n",
              "  </tbody>\n",
              "</table>\n",
              "</div>\n",
              "    <div class=\"colab-df-buttons\">\n",
              "\n",
              "  <div class=\"colab-df-container\">\n",
              "    <button class=\"colab-df-convert\" onclick=\"convertToInteractive('df-67006780-b14c-4f61-98f2-38f70e6d44ec')\"\n",
              "            title=\"Convert this dataframe to an interactive table.\"\n",
              "            style=\"display:none;\">\n",
              "\n",
              "  <svg xmlns=\"http://www.w3.org/2000/svg\" height=\"24px\" viewBox=\"0 -960 960 960\">\n",
              "    <path d=\"M120-120v-720h720v720H120Zm60-500h600v-160H180v160Zm220 220h160v-160H400v160Zm0 220h160v-160H400v160ZM180-400h160v-160H180v160Zm440 0h160v-160H620v160ZM180-180h160v-160H180v160Zm440 0h160v-160H620v160Z\"/>\n",
              "  </svg>\n",
              "    </button>\n",
              "\n",
              "  <style>\n",
              "    .colab-df-container {\n",
              "      display:flex;\n",
              "      gap: 12px;\n",
              "    }\n",
              "\n",
              "    .colab-df-convert {\n",
              "      background-color: #E8F0FE;\n",
              "      border: none;\n",
              "      border-radius: 50%;\n",
              "      cursor: pointer;\n",
              "      display: none;\n",
              "      fill: #1967D2;\n",
              "      height: 32px;\n",
              "      padding: 0 0 0 0;\n",
              "      width: 32px;\n",
              "    }\n",
              "\n",
              "    .colab-df-convert:hover {\n",
              "      background-color: #E2EBFA;\n",
              "      box-shadow: 0px 1px 2px rgba(60, 64, 67, 0.3), 0px 1px 3px 1px rgba(60, 64, 67, 0.15);\n",
              "      fill: #174EA6;\n",
              "    }\n",
              "\n",
              "    .colab-df-buttons div {\n",
              "      margin-bottom: 4px;\n",
              "    }\n",
              "\n",
              "    [theme=dark] .colab-df-convert {\n",
              "      background-color: #3B4455;\n",
              "      fill: #D2E3FC;\n",
              "    }\n",
              "\n",
              "    [theme=dark] .colab-df-convert:hover {\n",
              "      background-color: #434B5C;\n",
              "      box-shadow: 0px 1px 3px 1px rgba(0, 0, 0, 0.15);\n",
              "      filter: drop-shadow(0px 1px 2px rgba(0, 0, 0, 0.3));\n",
              "      fill: #FFFFFF;\n",
              "    }\n",
              "  </style>\n",
              "\n",
              "    <script>\n",
              "      const buttonEl =\n",
              "        document.querySelector('#df-67006780-b14c-4f61-98f2-38f70e6d44ec button.colab-df-convert');\n",
              "      buttonEl.style.display =\n",
              "        google.colab.kernel.accessAllowed ? 'block' : 'none';\n",
              "\n",
              "      async function convertToInteractive(key) {\n",
              "        const element = document.querySelector('#df-67006780-b14c-4f61-98f2-38f70e6d44ec');\n",
              "        const dataTable =\n",
              "          await google.colab.kernel.invokeFunction('convertToInteractive',\n",
              "                                                    [key], {});\n",
              "        if (!dataTable) return;\n",
              "\n",
              "        const docLinkHtml = 'Like what you see? Visit the ' +\n",
              "          '<a target=\"_blank\" href=https://colab.research.google.com/notebooks/data_table.ipynb>data table notebook</a>'\n",
              "          + ' to learn more about interactive tables.';\n",
              "        element.innerHTML = '';\n",
              "        dataTable['output_type'] = 'display_data';\n",
              "        await google.colab.output.renderOutput(dataTable, element);\n",
              "        const docLink = document.createElement('div');\n",
              "        docLink.innerHTML = docLinkHtml;\n",
              "        element.appendChild(docLink);\n",
              "      }\n",
              "    </script>\n",
              "  </div>\n",
              "\n",
              "\n",
              "    <div id=\"df-fa17973f-20d8-4903-a6ee-b60e2ce2a68d\">\n",
              "      <button class=\"colab-df-quickchart\" onclick=\"quickchart('df-fa17973f-20d8-4903-a6ee-b60e2ce2a68d')\"\n",
              "                title=\"Suggest charts\"\n",
              "                style=\"display:none;\">\n",
              "\n",
              "<svg xmlns=\"http://www.w3.org/2000/svg\" height=\"24px\"viewBox=\"0 0 24 24\"\n",
              "     width=\"24px\">\n",
              "    <g>\n",
              "        <path d=\"M19 3H5c-1.1 0-2 .9-2 2v14c0 1.1.9 2 2 2h14c1.1 0 2-.9 2-2V5c0-1.1-.9-2-2-2zM9 17H7v-7h2v7zm4 0h-2V7h2v10zm4 0h-2v-4h2v4z\"/>\n",
              "    </g>\n",
              "</svg>\n",
              "      </button>\n",
              "\n",
              "<style>\n",
              "  .colab-df-quickchart {\n",
              "      --bg-color: #E8F0FE;\n",
              "      --fill-color: #1967D2;\n",
              "      --hover-bg-color: #E2EBFA;\n",
              "      --hover-fill-color: #174EA6;\n",
              "      --disabled-fill-color: #AAA;\n",
              "      --disabled-bg-color: #DDD;\n",
              "  }\n",
              "\n",
              "  [theme=dark] .colab-df-quickchart {\n",
              "      --bg-color: #3B4455;\n",
              "      --fill-color: #D2E3FC;\n",
              "      --hover-bg-color: #434B5C;\n",
              "      --hover-fill-color: #FFFFFF;\n",
              "      --disabled-bg-color: #3B4455;\n",
              "      --disabled-fill-color: #666;\n",
              "  }\n",
              "\n",
              "  .colab-df-quickchart {\n",
              "    background-color: var(--bg-color);\n",
              "    border: none;\n",
              "    border-radius: 50%;\n",
              "    cursor: pointer;\n",
              "    display: none;\n",
              "    fill: var(--fill-color);\n",
              "    height: 32px;\n",
              "    padding: 0;\n",
              "    width: 32px;\n",
              "  }\n",
              "\n",
              "  .colab-df-quickchart:hover {\n",
              "    background-color: var(--hover-bg-color);\n",
              "    box-shadow: 0 1px 2px rgba(60, 64, 67, 0.3), 0 1px 3px 1px rgba(60, 64, 67, 0.15);\n",
              "    fill: var(--button-hover-fill-color);\n",
              "  }\n",
              "\n",
              "  .colab-df-quickchart-complete:disabled,\n",
              "  .colab-df-quickchart-complete:disabled:hover {\n",
              "    background-color: var(--disabled-bg-color);\n",
              "    fill: var(--disabled-fill-color);\n",
              "    box-shadow: none;\n",
              "  }\n",
              "\n",
              "  .colab-df-spinner {\n",
              "    border: 2px solid var(--fill-color);\n",
              "    border-color: transparent;\n",
              "    border-bottom-color: var(--fill-color);\n",
              "    animation:\n",
              "      spin 1s steps(1) infinite;\n",
              "  }\n",
              "\n",
              "  @keyframes spin {\n",
              "    0% {\n",
              "      border-color: transparent;\n",
              "      border-bottom-color: var(--fill-color);\n",
              "      border-left-color: var(--fill-color);\n",
              "    }\n",
              "    20% {\n",
              "      border-color: transparent;\n",
              "      border-left-color: var(--fill-color);\n",
              "      border-top-color: var(--fill-color);\n",
              "    }\n",
              "    30% {\n",
              "      border-color: transparent;\n",
              "      border-left-color: var(--fill-color);\n",
              "      border-top-color: var(--fill-color);\n",
              "      border-right-color: var(--fill-color);\n",
              "    }\n",
              "    40% {\n",
              "      border-color: transparent;\n",
              "      border-right-color: var(--fill-color);\n",
              "      border-top-color: var(--fill-color);\n",
              "    }\n",
              "    60% {\n",
              "      border-color: transparent;\n",
              "      border-right-color: var(--fill-color);\n",
              "    }\n",
              "    80% {\n",
              "      border-color: transparent;\n",
              "      border-right-color: var(--fill-color);\n",
              "      border-bottom-color: var(--fill-color);\n",
              "    }\n",
              "    90% {\n",
              "      border-color: transparent;\n",
              "      border-bottom-color: var(--fill-color);\n",
              "    }\n",
              "  }\n",
              "</style>\n",
              "\n",
              "      <script>\n",
              "        async function quickchart(key) {\n",
              "          const quickchartButtonEl =\n",
              "            document.querySelector('#' + key + ' button');\n",
              "          quickchartButtonEl.disabled = true;  // To prevent multiple clicks.\n",
              "          quickchartButtonEl.classList.add('colab-df-spinner');\n",
              "          try {\n",
              "            const charts = await google.colab.kernel.invokeFunction(\n",
              "                'suggestCharts', [key], {});\n",
              "          } catch (error) {\n",
              "            console.error('Error during call to suggestCharts:', error);\n",
              "          }\n",
              "          quickchartButtonEl.classList.remove('colab-df-spinner');\n",
              "          quickchartButtonEl.classList.add('colab-df-quickchart-complete');\n",
              "        }\n",
              "        (() => {\n",
              "          let quickchartButtonEl =\n",
              "            document.querySelector('#df-fa17973f-20d8-4903-a6ee-b60e2ce2a68d button');\n",
              "          quickchartButtonEl.style.display =\n",
              "            google.colab.kernel.accessAllowed ? 'block' : 'none';\n",
              "        })();\n",
              "      </script>\n",
              "    </div>\n",
              "\n",
              "    </div>\n",
              "  </div>\n"
            ],
            "application/vnd.google.colaboratory.intrinsic+json": {
              "type": "dataframe",
              "variable_name": "df",
              "summary": "{\n  \"name\": \"df\",\n  \"rows\": 68604,\n  \"fields\": [\n    {\n      \"column\": \"text\",\n      \"properties\": {\n        \"dtype\": \"string\",\n        \"num_unique_values\": 68215,\n        \"samples\": [\n          \"wow dnc pushing coronation hillary everything stop bernie whoa wow dnc pushing coronation hillary everything stop bernie whoa\",\n          \"president elect donald trump administration consider supporting beijing backed free trade deal asia pacific state media said tuesday adding china would relieved see rival led trade deal wither trump election campaign trump took protectionist stance trade issues labeled trans pacific partnership tpp championed president barack obama disaster little chance coming vote washington inauguration january obama framed tpp excludes china part pivot asia effort write asia trade rules beijing could china feared united states would use tpp either force open markets signing else isolate regional economies course beijing understandably relieved exclusive economically inefficient politically antagonizing tpp looking ever less likely materialize day official english language china daily newspaper said editorial regional comprehensive economic partnership rcep trade talks supported beijing united states party viewed observers competitor economic leadership region incoming administration realize open inclusive regional comprehensive economic partnership turn far efficient vehicle advancing interests china daily said washington may want take advantage nascent evolving platform become involved rule making stage influence asia pacific abate trump administration chooses engage region constructively paper said editorials state run media represent chinese government policy indicative official thinking rcep groups members association south east asian nations plus china japan south korea india australia new zealand currently offer high level free trade openings tpp china said seek support another nascent beijing led trade framework free trade area asia pacific ftaap regional summit month peru host asia pacific economic cooperation apec meeting party tpp said pacific rim countries forge new trade deal replace tpp includes china russia united states president elect donald trump administration consider supporting beijing backed free trade deal asia pacific state media said tuesday adding china would relieved see rival led trade deal wither trump election campaign trump took protectionist stance trade issues labeled trans pacific partnership tpp championed president barack obama disaster little chance coming vote washington inauguration january obama framed tpp excludes china part pivot asia effort write asia trade rules beijing could china feared united states would use tpp either force open markets signing else isolate regional economies course beijing understandably relieved exclusive economically inefficient politically antagonizing tpp looking ever less likely materialize day official english language china daily newspaper said editorial regional comprehensive economic partnership rcep trade talks supported beijing united states party viewed observers competitor economic leadership region incoming administration realize open inclusive regional comprehensive economic partnership turn far efficient vehicle advancing interests china daily said washington may want take advantage nascent evolving platform become involved rule making stage influence asia pacific abate trump administration chooses engage region constructively paper said editorials state run media represent chinese government policy indicative official thinking rcep groups members association south east asian nations plus china japan south korea india australia new zealand currently offer high level free trade openings tpp china said seek support another nascent beijing led trade framework free trade area asia pacific ftaap regional summit month peru host asia pacific economic cooperation apec meeting party tpp said pacific rim countries forge new trade deal replace tpp includes china russia united states\",\n          \"two men filed lawsuit tennessee governor saying constitutional rights gay individuals violated new law allows mental health counselors refuse treat patients basis sincerely held principles law signed republican governor bill haslam april criticized discriminatory gay community lawsuit filed tuesday bleu copas caleb laieski chancery court anderson county asks court void statute violates tennessee constitution constitution amendment guarantees equal protection citizens law lgbt lesbian gay bisexual transgender persons target statute singled discriminatory treatment group could conceivably target statute lawsuit reads part court employee sent reuters copy complaint wednesday via email jennifer donnals press secretary governor haslam said emailed statement able make comments pending litigation law protects therapists counselors legal action cite personal principles refusing service despite provision american counseling association code ethics barring members denials service lawsuit copas says homosexual man resident anderson county tennessee laieski says homosexual describes national lesbian gay bisexual transgender rights activist residing alexandria virginia gay marriage becoming lost cause opponents two men filed lawsuit tennessee governor saying constitutional rights gay individuals violated new law allows mental health counselors refuse treat patients basis sincerely held principles law signed republican governor bill haslam april criticized discriminatory gay community lawsuit filed tuesday bleu copas caleb laieski chancery court anderson county asks court void statute violates tennessee constitution constitution amendment guarantees equal protection citizens law lgbt lesbian gay bisexual transgender persons target statute singled discriminatory treatment group could conceivably target statute lawsuit reads part court employee sent reuters copy complaint wednesday via email jennifer donnals press secretary governor haslam said emailed statement able make comments pending litigation law protects therapists counselors legal action cite personal principles refusing service despite provision american counseling association code ethics barring members denials service lawsuit copas says homosexual man resident anderson county tennessee laieski says homosexual describes national lesbian gay bisexual transgender rights activist residing alexandria virginia gay marriage becoming lost cause opponents\"\n        ],\n        \"semantic_type\": \"\",\n        \"description\": \"\"\n      }\n    },\n    {\n      \"column\": \"label\",\n      \"properties\": {\n        \"dtype\": \"number\",\n        \"std\": 0,\n        \"min\": 0,\n        \"max\": 1,\n        \"num_unique_values\": 2,\n        \"samples\": [\n          0,\n          1\n        ],\n        \"semantic_type\": \"\",\n        \"description\": \"\"\n      }\n    },\n    {\n      \"column\": \"text_length\",\n      \"properties\": {\n        \"dtype\": \"number\",\n        \"std\": 4750,\n        \"min\": 0,\n        \"max\": 253077,\n        \"num_unique_values\": 7864,\n        \"samples\": [\n          2695,\n          2019\n        ],\n        \"semantic_type\": \"\",\n        \"description\": \"\"\n      }\n    }\n  ]\n}"
            }

              "XLNetForSequenceClassification(\n",
              "  (transformer): XLNetModel(\n",
              "    (word_embedding): Embedding(32000, 768)\n",
              "    (layer): ModuleList(\n",
              "      (0-11): 12 x XLNetLayer(\n",
              "        (rel_attn): XLNetRelativeAttention(\n",
              "          (layer_norm): LayerNorm((768,), eps=1e-12, elementwise_affine=True)\n",
              "          (dropout): Dropout(p=0.1, inplace=False)\n",
              "        )\n",
              "        (ff): XLNetFeedForward(\n",
              "          (layer_norm): LayerNorm((768,), eps=1e-12, elementwise_affine=True)\n",
              "          (layer_1): Linear(in_features=768, out_features=3072, bias=True)\n",
              "          (layer_2): Linear(in_features=3072, out_features=768, bias=True)\n",
              "          (dropout): Dropout(p=0.1, inplace=False)\n",
              "          (activation_function): GELUActivation()\n",
              "        )\n",
              "        (dropout): Dropout(p=0.1, inplace=False)\n",
              "      )\n",
              "    )\n",
              "    (dropout): Dropout(p=0.1, inplace=False)\n",
              "  )\n",
              "  (sequence_summary): SequenceSummary(\n",
              "    (summary): Linear(in_features=768, out_features=768, bias=True)\n",
              "    (activation): Tanh()\n",
              "    (first_dropout): Identity()\n",
              "    (last_dropout): Dropout(p=0.1, inplace=False)\n",
              "  )\n",
              "  (logits_proj): Linear(in_features=768, out_features=2, bias=True)\n",
              ")"
            ]

          },
          "execution_count": 8,
          "metadata": {},

          "execution_count": 6

          "output_type": "execute_result"

        }
      ],

      "metadata": {
        "id": "0uyNieaK2AAK"
      },
      "execution_count": 5,
      "outputs": []
    },
    {
      "cell_type": "code",
      "source": [
        "X_train, X_test, y_train, y_test = train_test_split(df['text'], df['label'], test_size=0.2, random_state=42)"
      ],
      "metadata": {
        "id": "qEqBwvaHOpv9"
      },
      "execution_count": 6,
      "outputs": []
    },
    {
      "cell_type": "code",
      "source": [
        "\n",
        "# Initialize TfidfVectorizer\n",
        "# You can experiment with parameters like max_features, ngram_range, stop_words etc.\n",
        "tfidf_vectorizer = TfidfVectorizer(max_features=5000, ngram_range=(1, 2))\n",
        "\n",
        "# Fit the vectorizer on the training data and transform both train and test data\n",
        "X_train_tfidf = tfidf_vectorizer.fit_transform(X_train)\n",
        "X_test_tfidf = tfidf_vectorizer.transform(X_test)\n",
        "\n",
        "print(\"\\nShape of X_train_tfidf:\", X_train_tfidf.shape)\n",
        "print(\"Shape of X_test_tfidf:\", X_test_tfidf.shape)\n"
      ],
      "metadata": {
        "colab": {
          "base_uri": "https://localhost:8080/"
        },
        "id": "GFnmwDyzw8Ey",
        "outputId": "830228dd-6090-4f8f-c7b9-bf91ceceef9d"
      },
      "execution_count": 6,
      "outputs": [
        {
          "output_type": "stream",
          "name": "stdout",
          "text": [
            "\n",
            "Shape of X_train_tfidf: (54877, 5000)\n",
            "Shape of X_test_tfidf: (13720, 5000)\n"
          ]
        }
      ]
    },
    {
      "source": [
        "print(\"\\nFirst 5 rows of X_train_tfidf (as dense array):\\n\", X_train_tfidf[:5].toarray())\n",
        "print(\"\\nType of X_train_tfidf:\", type(X_train_tfidf))\n",
        "print(\"Number of non-zero elements:\", X_train_tfidf.nnz)\n",
        "print(\"Sparsity ratio:\", 1 - (X_train_tfidf.nnz / (X_train_tfidf.shape[0] * X_train_tfidf.shape[1])))"
      ],
      "cell_type": "code",
      "metadata": {
        "colab": {
          "base_uri": "https://localhost:8080/"
        },
        "id": "pMfvwcLZyWIf",
        "outputId": "5926c70e-d3b3-47f1-d697-034b12d09b1b"
      },
      "execution_count": 9,
      "outputs": [
        {
          "output_type": "stream",
          "name": "stdout",
          "text": [
            "\n",
            "First 5 rows of X_train_tfidf (as dense array):\n",
            " [[0.         0.         0.         ... 0.         0.         0.        ]\n",
            " [0.         0.         0.         ... 0.         0.         0.        ]\n",
            " [0.         0.         0.         ... 0.         0.         0.        ]\n",
            " [0.         0.04036097 0.         ... 0.         0.         0.        ]\n",
            " [0.         0.         0.         ... 0.         0.         0.        ]]\n",
            "\n",
            "Type of X_train_tfidf: <class 'scipy.sparse._csr.csr_matrix'>\n",
            "Number of non-zero elements: 7976372\n",
            "Sparsity ratio: 0.9709299998177743\n"
          ]
        }
      ]
    },
    {
      "cell_type": "code",
      "source": [
        "from sklearn.preprocessing import StandardScaler\n",
        "scale = StandardScaler(with_mean=False)\n",
        "X_train_tfidf = scale.fit_transform(X_train_tfidf)\n",
        "X_test_tfidf = scale.transform(X_test_tfidf)"
      ],
      "metadata": {
        "id": "aHoeNpH93Fmq"
      },
      "execution_count": 7,
      "outputs": []
    },
    {
      "cell_type": "code",
      "source": [
        "import matplotlib.pyplot as plt\n",
        "from sklearn.svm import LinearSVC\n",
        "from sklearn.model_selection import GridSearchCV\n",
        "from sklearn.preprocessing import StandardScaler\n",
        "\n",
        "lsvm_model = LinearSVC(random_state=42, dual=False)\n",
        "print(\"\\nTraining LinearSVC model...\")\n",
        "lsvm_model.fit(X_train_tfidf, y_train)\n",
        "print(\"Training complete.\")\n",
        "print(\"\\nEvaluating LinearSVC model...\")\n",
        "# Predict on the test set\n",
        "y_pred_lsvm = lsvm_model.predict(X_test_tfidf)\n",
        "\n",
        "# Evaluate the model\n",
        "print(\"\\nClassification Report for LinearSVC:\")\n",
        "print(classification_report(y_test, y_pred_lsvm))\n",
        "\n",
        "# Confusion Matrix\n",
        "conf_matrix_lsvm = confusion_matrix(y_test, y_pred_lsvm)\n",
        "print(\"\\nConfusion Matrix for LinearSVC:\")\n",
        "print(conf_matrix_lsvm)\n",
        "\n",
        "# Visualize the confusion matrix\n",
        "plt.figure(figsize=(8, 6))\n",
        "sns.heatmap(conf_matrix_lsvm, annot=True, fmt='d', cmap='Blues', xticklabels=['True', 'Fake'], yticklabels=['True', 'Fake'])\n",
        "plt.title('Confusion Matrix - LinearSVC')\n",
        "plt.xlabel('Predicted Label')\n",
        "plt.ylabel('True Label')\n",
        "plt.show()\n",
        "print(\"LinearSVC model evaluation complete.\")\n",
        "param_grid = {'C': [0.1, 1, 10],\n",
        "              'penalty': ['l1','l2'],\n",
        "              'loss': ['squared_hinge'],\n",
        "              } # C is the regularization parameter\n",
        "\n",
        "grid_search = GridSearchCV(LinearSVC(random_state=42, dual=False), param_grid, cv=3, scoring='f1', n_jobs=-1)\n",
        "grid_search.fit(X_train_tfidf, y_train)\n",
        "\n",
        "print(\"\\nBest parameters found by GridSearchCV:\")\n",
        "print(grid_search.best_params_)\n",
        "\n",
        "best_lsvm_model = grid_search.best_estimator_\n",
        "y_pred_best_lsvm = best_lsvm_model.predict(X_test_tfidf)\n",
        "print(\"\\nClassification Report for Tuned LinearSVC:\")\n",
        "print(classification_report(y_test, y_pred_best_lsvm))\n"
      ],
      "metadata": {
        "colab": {
          "base_uri": "https://localhost:8080/",
          "height": 1000
        },
        "id": "JAW20ICcyP_C",
        "outputId": "ec819709-b8b8-4970-d97f-2d66f9931f6d"
      },
      "execution_count": 11,
      "outputs": [
        {
          "output_type": "stream",
          "name": "stdout",
          "text": [
            "\n",
            "Training LinearSVC model...\n",
            "Training complete.\n",
            "\n",
            "Evaluating LinearSVC model...\n",
            "\n",
            "Classification Report for LinearSVC:\n",
            "              precision    recall  f1-score   support\n",
            "\n",
            "           0       0.92      0.92      0.92      7045\n",
            "           1       0.92      0.92      0.92      6675\n",
            "\n",
            "    accuracy                           0.92     13720\n",
            "   macro avg       0.92      0.92      0.92     13720\n",
            "weighted avg       0.92      0.92      0.92     13720\n",
            "\n",
            "\n",
            "Confusion Matrix for LinearSVC:\n",
            "[[6502  543]\n",
            " [ 551 6124]]\n"
          ]
        },
        {
          "output_type": "display_data",
          "data": {
            "text/plain": [
              "<Figure size 800x600 with 2 Axes>"
            ],
            "image/png": "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\n"
          },
          "metadata": {}
        },
        {
          "output_type": "stream",
          "name": "stdout",
          "text": [
            "LinearSVC model evaluation complete.\n",
            "\n",
            "Best parameters found by GridSearchCV:\n",
            "{'C': 0.1, 'loss': 'squared_hinge', 'penalty': 'l1'}\n",
            "\n",
            "Classification Report for Tuned LinearSVC:\n",
            "              precision    recall  f1-score   support\n",
            "\n",
            "           0       0.93      0.93      0.93      7045\n",
            "           1       0.93      0.92      0.93      6675\n",
            "\n",
            "    accuracy                           0.93     13720\n",
            "   macro avg       0.93      0.93      0.93     13720\n",
            "weighted avg       0.93      0.93      0.93     13720\n",
            "\n"
          ]
        }

      "source": [
        "import torch\n",
        "device = torch.device(\"cuda\" if torch.cuda.is_available() else \"cpu\")\n",
        "bert_model.to(device)\n",
        "xlnet_model.to(device)"

      ]
    },
    {
      "cell_type": "code",

      "source": [
        "from sklearn.svm import LinearSVC\n",
        "lsvm_model = LinearSVC(random_state=42, dual=False,C=0.1, loss='squared_hinge', penalty='l1')\n",
        "print(\"\\nTraining LinearSVC model...\")\n",
        "lsvm_model.fit(X_train_tfidf, y_train)\n",
        "print(\"Training complete.\")\n",
        "print(\"\\nEvaluating LinearSVC model...\")\n",
        "# Predict on the test set\n",
        "y_pred_lsvm = lsvm_model.predict(X_test_tfidf)\n",
        "\n",
        "# Evaluate the model\n",
        "print(\"\\nClassification Report for LinearSVC:\")\n",
        "print(classification_report(y_test, y_pred_lsvm))\n",
        "\n",
        "# Confusion Matrix\n",
        "conf_matrix_lsvm = confusion_matrix(y_test, y_pred_lsvm)\n",
        "print(\"\\nConfusion Matrix for LinearSVC:\")\n",
        "print(conf_matrix_lsvm)\n",
        "print(\"Training complete.\")"
      ],
      "metadata": {
        "colab": {
          "base_uri": "https://localhost:8080/"
        },
        "id": "QuGTfKmc9Pgb",
        "outputId": "de5423bd-eae9-4589-88f0-c4c5779a15e6"
      },
      "execution_count": 11,

      "execution_count": null,
      "metadata": {},

      "outputs": [
        {
          "name": "stderr",
          "output_type": "stream",
          "text": [

            "\n",
            "Training LinearSVC model...\n",
            "Training complete.\n",
            "\n",
            "Evaluating LinearSVC model...\n",
            "\n",
            "Classification Report for LinearSVC:\n",
            "              precision    recall  f1-score   support\n",
            "\n",
            "           0       0.93      0.93      0.93      7045\n",
            "           1       0.93      0.92      0.93      6675\n",
            "\n",
            "    accuracy                           0.93     13720\n",
            "   macro avg       0.93      0.93      0.93     13720\n",
            "weighted avg       0.93      0.93      0.93     13720\n",
            "\n",
            "\n",
            "Confusion Matrix for LinearSVC:\n",
            "[[6565  480]\n",
            " [ 503 6172]]\n",
            "Training complete.\n"

            "c:\\Users\\Admin\\AppData\\Local\\Programs\\Python\\Python311\\Lib\\site-packages\\transformers\\training_args.py:1474: FutureWarning: `evaluation_strategy` is deprecated and will be removed in version 4.46 of 🤗 Transformers. Use `eval_strategy` instead\n",

          ]
        }
      ]
    },
    {
      "source": [
        "from sklearn.preprocessing import StandardScaler\n",
        "# Re-initialize TfidfVectorizer with fewer features\n",
        "tfidf_vectorizer_smaller = TfidfVectorizer(max_features=2000, ngram_range=(1, 2))\n",
        "\n",
        "# Fit and transform data\n",
        "X_train_tfidf_smaller = tfidf_vectorizer_smaller.fit_transform(X_train)\n",
        "X_test_tfidf_smaller = tfidf_vectorizer_smaller.transform(X_test)\n",
        "\n",
        "# Scale the smaller feature set\n",
        "scale_smaller = StandardScaler(with_mean=False)\n",
        "X_train_tfidf_smaller_scaled = scale_smaller.fit_transform(X_train_tfidf_smaller)\n",
        "X_test_tfidf_smaller_scaled = scale_smaller.transform(X_test_tfidf_smaller)\n",
        "\n",
        "svm_model_smaller_features = SVC(kernel='rbf', random_state=42)\n",
        "print(\"\\nTraining SVC model with fewer features...\")\n",
        "svm_model_smaller_features.fit(X_train_tfidf_smaller_scaled, y_train)\n",
        "print(\"Training complete.\")\n",
        "y_pred_svm_smaller_features = svm_model_smaller_features.predict(X_test_tfidf_smaller_scaled)\n",
        "print(classification_report(y_test, y_pred_svm_smaller_features))"
      ],
      "cell_type": "code",
      "metadata": {
        "colab": {
          "base_uri": "https://localhost:8080/"
        },

        "id": "iHZJQ8HSOXxn",
        "outputId": "fca96339-14ad-454c-8e72-f05798f9dc37"
      },
      "execution_count": 10,
      "outputs": [
        {
          "output_type": "stream",
          "name": "stdout",
          "text": [
            "\n",
            "Training SVC model with fewer features...\n",
            "Training complete.\n",
            "              precision    recall  f1-score   support\n",
            "\n",
            "           0       0.94      0.94      0.94      7045\n",
            "           1       0.93      0.94      0.94      6675\n",
            "\n",
            "    accuracy                           0.94     13720\n",
            "   macro avg       0.94      0.94      0.94     13720\n",
            "weighted avg       0.94      0.94      0.94     13720\n",
            "\n"
          ]

        {
          "data": {
            "application/vnd.jupyter.widget-view+json": {
              "model_id": "d262e03739cf4989a7761ae1eb5ae09d",
              "version_major": 2,
              "version_minor": 0
            },
            "text/plain": [
              "  0%|          | 0/6003 [00:00<?, ?it/s]"
            ]
          },
          "metadata": {},
          "output_type": "display_data"

        }
      ],
      "source": [
        "from transformers import Trainer, TrainingArguments, DataCollatorWithPadding\n",
        "from sklearn.metrics import accuracy_score, precision_recall_fscore_support\n",
        "\n",
        "def compute_metrics(pred):\n",
        "    labels = pred.label_ids\n",
        "    preds = pred.predictions.argmax(-1)\n",
        "    precision, recall, f1, _ = precision_recall_fscore_support(labels, preds)\n",
        "    return {\n",
        "        'accuracy': accuracy_score(labels, preds),\n",
        "        'f1': float(f1),\n",
        "        'precision': float(precision),\n",
        "        'recall': float(recall)\n",
        "    }\n",
        "\n",
        "actual_tokenizer = tokenizer.tokenizer\n",
        "\n",
        "data_collator = DataCollatorWithPadding(tokenizer=actual_tokenizer)\n",
        "\n",
        "training_args = TrainingArguments(\n",
        "    output_dir='./bert_results',\n",
        "    per_device_train_batch_size=8,\n",
        "    per_device_eval_batch_size=8,\n",
        "    num_train_epochs=1,\n",
        "    weight_decay=0.01,\n",
        "    evaluation_strategy=\"epoch\",\n",
        "    save_strategy=\"epoch\",\n",
        "    load_best_model_at_end=True,\n",
        "    dataloader_num_workers=8,\n",
        "    fp16=True\n",
        ")\n",
        "\n",
        "trainer = Trainer(\n",
        "    model=bert_model,\n",
        "    args=training_args,\n",
        "    train_dataset=train_dataset,\n",
        "    eval_dataset=valid_dataset,\n",
        "    tokenizer=actual_tokenizer,\n",
        "    data_collator=data_collator,\n",
        "    compute_metrics=compute_metrics\n",
        ")\n",
        "\n",
        "trainer.train()"
      ]
    },
    {
      "cell_type": "code",
      "execution_count": null,
      "metadata": {},
      "outputs": [
        {
          "data": {
            "application/vnd.jupyter.widget-view+json": {
              "model_id": "14d1527f405d4d2293dcd9759373df4c",
              "version_major": 2,
              "version_minor": 0
            },
            "text/plain": [
              "  0%|          | 0/1715 [00:00<?, ?it/s]"
            ]
          },
          "metadata": {},
          "output_type": "display_data"
        },
        {
          "name": "stdout",
          "output_type": "stream",
          "text": [
            "Evaluation results: {'eval_loss': 0.2187958061695099, 'eval_runtime': 139.296, 'eval_samples_per_second': 98.495, 'eval_steps_per_second': 12.312, 'epoch': 1.0}\n"
          ]
        }
      ],
      "source": [

        "from sklearn.linear_model import LogisticRegression\n",
        "from sklearn.model_selection import GridSearchCV\n",
        "from sklearn.metrics import classification_report, confusion_matrix, accuracy_score, precision_score, recall_score, f1_score\n",
        "import seaborn as sns\n",
        "import matplotlib.pyplot as plt\n",
        "\n",
        "param_grid_log_reg = {\n",
        "    'C': [0.01, 0.1, 1, 10],\n",
        "    'penalty': ['l2'], # L1 penalty can be used with 'liblinear' and 'saga'\n",
        "    'solver': ['liblinear'] # Choose a solver compatible with the chosen penalty\n",
        "}\n",
        "\n",
        "grid_search_log_reg = GridSearchCV(LogisticRegression(random_state=42), param_grid_log_reg, cv=3, scoring='f1', n_jobs=-1)\n",
        "\n",
        "print(\"\\nStarting GridSearchCV for Logistic Regression...\")\n",
        "# Fit the grid search to the training data\n",
        "grid_search_log_reg.fit(X_train_tfidf, y_train)\n",
        "print(\"GridSearchCV complete.\")\n",
        "\n",
        "# Print the best parameters and the best score\n",
        "print(\"\\nBest parameters found by GridSearchCV for Logistic Regression:\")\n",
        "print(grid_search_log_reg.best_params_)\n",
        "print(f\"\\nBest cross-validation F1 score: {grid_search_log_reg.best_score_:.4f}\")\n",
        "\n",
        "# Get the best model from the grid search\n",
        "best_log_reg_model = grid_search_log_reg.best_estimator_\n",
        "\n",
        "# Evaluate the best model on the test set\n",
        "print(\"\\nEvaluating the best Logistic Regression model on the test set...\")\n",
        "y_pred_best_log_reg = best_log_reg_model.predict(X_test_tfidf)\n",
        "\n",
        "# Print evaluation metrics\n",
        "print(\"\\nClassification Report for Tuned Logistic Regression:\")\n",
        "print(classification_report(y_test, y_pred_best_log_reg))\n",
        "\n",
        "conf_matrix_best_log_reg = confusion_matrix(y_test, y_pred_best_log_reg)\n",
        "print(\"\\nConfusion Matrix for Tuned Logistic Regression:\")\n",
        "print(conf_matrix_best_log_reg)\n",
        "\n",
        "# Visualize the confusion matrix of the best model\n",
        "plt.figure(figsize=(8, 6))\n",
        "sns.heatmap(conf_matrix_best_log_reg, annot=True, fmt='d', cmap='Blues', xticklabels=['True', 'Fake'], yticklabels=['True', 'Fake'])\n",
        "plt.title('Confusion Matrix - Tuned Logistic Regression')\n",
        "plt.xlabel('Predicted Label')\n",
        "plt.ylabel('True Label')\n",
        "plt.show()\n",
        "\n",
        "accuracy_tuned_log_reg = accuracy_score(y_test, y_pred_best_log_reg)\n",
        "precision_tuned_log_reg = precision_score(y_test, y_pred_best_log_reg, pos_label=1)\n",
        "recall_tuned_log_reg = recall_score(y_test, y_pred_best_log_reg, pos_label=1)\n",
        "f1_tuned_log_reg = f1_score(y_test, y_pred_best_log_reg, pos_label=1)\n",
        "\n",
        "print(\"\\nTuned Logistic Regression Performance Metrics on Test Set:\")\n",
        "print(f\"Accuracy: {accuracy_tuned_log_reg:.4f}\")\n",
        "print(f\"Precision (Fake News): {precision_tuned_log_reg:.4f}\")\n",
        "print(f\"Recall (Fake News): {recall_tuned_log_reg:.4f}\")\n",
        "print(f\"F1-score (Fake News): {f1_tuned_log_reg:.4f}\")"
      ],
      "metadata": {
        "colab": {
          "base_uri": "https://localhost:8080/",
          "height": 1000
        },
        "id": "Xrb_HZttHwmc",
        "outputId": "b5e10fcd-b13d-4d83-9313-f2a4de561f2b"
      },
      "execution_count": 8,
      "outputs": [
        {
          "output_type": "stream",
          "name": "stdout",
          "text": [
            "\n",
            "Starting GridSearchCV for Logistic Regression...\n",
            "GridSearchCV complete.\n",
            "\n",
            "Best parameters found by GridSearchCV for Logistic Regression:\n",
            "{'C': 0.01, 'penalty': 'l2', 'solver': 'liblinear'}\n",
            "\n",
            "Best cross-validation F1 score: 0.9202\n",
            "\n",
            "Evaluating the best Logistic Regression model on the test set...\n",
            "\n",
            "Classification Report for Tuned Logistic Regression:\n",
            "              precision    recall  f1-score   support\n",
            "\n",
            "           0       0.92      0.94      0.93      7045\n",
            "           1       0.93      0.92      0.93      6675\n",
            "\n",
            "    accuracy                           0.93     13720\n",
            "   macro avg       0.93      0.93      0.93     13720\n",
            "weighted avg       0.93      0.93      0.93     13720\n",
            "\n",
            "\n",
            "Confusion Matrix for Tuned Logistic Regression:\n",
            "[[6611  434]\n",
            " [ 541 6134]]\n"
          ]
        },
        {
          "output_type": "display_data",
          "data": {
            "text/plain": [
              "<Figure size 800x600 with 2 Axes>"
            ],
            "image/png": "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\n"
          },
          "metadata": {}
        },
        {
          "output_type": "stream",
          "name": "stdout",
          "text": [
            "\n",
            "Tuned Logistic Regression Performance Metrics on Test Set:\n",
            "Accuracy: 0.9289\n",
            "Precision (Fake News): 0.9339\n",
            "Recall (Fake News): 0.9190\n",
            "F1-score (Fake News): 0.9264\n"
          ]
        }
      ]
    },
    {
      "cell_type": "code",
      "source": [
        "# 3. Model Building (XGBoost)\n",
        "# XGBoost can work with sparse matrices like X_train_tfidf.\n",
        "# Initialize the XGBClassifier model\n",
        "# You can start with default or reasonable parameters.\n",
        "# For binary classification, use objective='binary:logistic' and eval_metric='logloss' or 'error'.\n",
        "xgb_model = XGBClassifier(objective='binary:logistic',\n",
        "                          eval_metric='logloss', # Or 'error', 'auc' etc.\n",
        "                          use_label_encoder=False, # Suppress warning\n",
        "                          random_state=42)\n",
        "\n",
        "# 4. Model Training\n",
        "print(\"\\nTraining XGBoost model...\")\n",
        "# XGBoost can train directly on sparse TF-IDF matrices\n",
        "xgb_model.fit(X_train_tfidf, y_train)\n",
        "print(\"Training complete.\")\n",
        "\n",
        "# 5. Performance Evaluation\n",
        "print(\"\\nEvaluating XGBoost model...\")\n",
        "# Predict on the test set\n",
        "y_pred_xgb = xgb_model.predict(X_test_tfidf)\n",
        "\n",

        "# Evaluate the model\n",
        "eval_results = trainer.evaluate(eval_dataset=test_dataset)\n",
        "print(f\"Evaluation results: {eval_results}\")"
      ]
    },
    {
      "cell_type": "code",
      "source": [],
      "metadata": {
        "id": "uMBk03DWNj1Z"
      },
      "execution_count": null,
      "outputs": []
    }
  ],
  "metadata": {
    "colab": {
      "provenance": []
    },
    "kernelspec": {
      "display_name": "Python 3",
      "name": "python3"
    },
    "language_info": {
      "codemirror_mode": {
        "name": "ipython",
        "version": 3
      },
      "file_extension": ".py",
      "mimetype": "text/x-python",
      "name": "python",
      "nbconvert_exporter": "python",
      "pygments_lexer": "ipython3",
      "version": "3.11.9"
    }
  },
  "nbformat": 4,
  "nbformat_minor": 0
}
